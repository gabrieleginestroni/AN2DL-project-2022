Epoch 1/400
90/90 [==============================] - 38s 362ms/step - loss: 1.4236 - accuracy: 0.4839 - val_loss: 1.3278 - val_accuracy: 0.5432
Epoch 2/400
90/90 [==============================] - 31s 350ms/step - loss: 0.5352 - accuracy: 0.8280 - val_loss: 0.8774 - val_accuracy: 0.6635
Epoch 3/400
90/90 [==============================] - 31s 349ms/step - loss: 0.1822 - accuracy: 0.9562 - val_loss: 0.7410 - val_accuracy: 0.7500
Epoch 4/400
90/90 [==============================] - 31s 345ms/step - loss: 0.0617 - accuracy: 0.9904 - val_loss: 0.7517 - val_accuracy: 0.7632
Epoch 5/400
90/90 [==============================] - 31s 347ms/step - loss: 0.0273 - accuracy: 0.9961 - val_loss: 0.7626 - val_accuracy: 0.7782
Epoch 6/400
90/90 [==============================] - 31s 345ms/step - loss: 0.0161 - accuracy: 0.9979 - val_loss: 0.7887 - val_accuracy: 0.7744
Epoch 7/400
90/90 [==============================] - 31s 345ms/step - loss: 0.0121 - accuracy: 0.9988 - val_loss: 0.7708 - val_accuracy: 0.7707
Epoch 8/400
90/90 [==============================] - 31s 347ms/step - loss: 0.0095 - accuracy: 0.9985 - val_loss: 0.8176 - val_accuracy: 0.7669
Epoch 9/400
90/90 [==============================] - 31s 346ms/step - loss: 0.0100 - accuracy: 0.9985 - val_loss: 0.8015 - val_accuracy: 0.7895
Epoch 10/400
90/90 [==============================] - 31s 346ms/step - loss: 0.0068 - accuracy: 0.9992 - val_loss: 0.8392 - val_accuracy: 0.7801
Epoch 11/400
90/90 [==============================] - 31s 346ms/step - loss: 0.0204 - accuracy: 0.9968 - val_loss: 0.8923 - val_accuracy: 0.7895
Epoch 12/400
90/90 [==============================] - 31s 346ms/step - loss: 0.0107 - accuracy: 0.9983 - val_loss: 0.8976 - val_accuracy: 0.7744
Epoch 13/400
90/90 [==============================] - 31s 344ms/step - loss: 0.0048 - accuracy: 0.9996 - val_loss: 0.8933 - val_accuracy: 0.7820
Epoch 14/400
90/90 [==============================] - 31s 344ms/step - loss: 0.0147 - accuracy: 0.9973 - val_loss: 0.9528 - val_accuracy: 0.7763
Epoch 15/400
90/90 [==============================] - 31s 347ms/step - loss: 0.0135 - accuracy: 0.9968 - val_loss: 1.0361 - val_accuracy: 0.7688
Epoch 16/400
90/90 [==============================] - 31s 347ms/step - loss: 0.0114 - accuracy: 0.9980 - val_loss: 0.9685 - val_accuracy: 0.7857
Epoch 17/400
90/90 [==============================] - 31s 348ms/step - loss: 0.0209 - accuracy: 0.9939 - val_loss: 0.9920 - val_accuracy: 0.7594
Epoch 18/400
90/90 [==============================] - 31s 343ms/step - loss: 0.0148 - accuracy: 0.9961 - val_loss: 1.0606 - val_accuracy: 0.7556
Epoch 19/400
90/90 [==============================] - 30s 339ms/step - loss: 0.0294 - accuracy: 0.9912 - val_loss: 1.0752 - val_accuracy: 0.7406
Epoch 20/400
90/90 [==============================] - 31s 343ms/step - loss: 0.0227 - accuracy: 0.9948 - val_loss: 1.0199 - val_accuracy: 0.7669
Epoch 21/400
90/90 [==============================] - 31s 345ms/step - loss: 0.0056 - accuracy: 0.9989 - val_loss: 0.9629 - val_accuracy: 0.7895
Epoch 22/400
90/90 [==============================] - 31s 345ms/step - loss: 0.0111 - accuracy: 0.9975 - val_loss: 0.9328 - val_accuracy: 0.7932
Epoch 23/400
90/90 [==============================] - 30s 339ms/step - loss: 0.0055 - accuracy: 0.9989 - val_loss: 0.9776 - val_accuracy: 0.7726
Epoch 24/400
90/90 [==============================] - 30s 338ms/step - loss: 0.0083 - accuracy: 0.9978 - val_loss: 0.9661 - val_accuracy: 0.7820
Epoch 25/400
90/90 [==============================] - 30s 339ms/step - loss: 0.0103 - accuracy: 0.9969 - val_loss: 1.0265 - val_accuracy: 0.7895
Epoch 26/400
90/90 [==============================] - 31s 339ms/step - loss: 0.0297 - accuracy: 0.9911 - val_loss: 1.1437 - val_accuracy: 0.7632
Epoch 27/400
90/90 [==============================] - 30s 338ms/step - loss: 0.0252 - accuracy: 0.9927 - val_loss: 1.0587 - val_accuracy: 0.7726
Epoch 28/400
90/90 [==============================] - 31s 339ms/step - loss: 0.0117 - accuracy: 0.9971 - val_loss: 0.9158 - val_accuracy: 0.7914
Epoch 29/400
90/90 [==============================] - 31s 339ms/step - loss: 0.0194 - accuracy: 0.9950 - val_loss: 1.0002 - val_accuracy: 0.7782
Epoch 30/400
90/90 [==============================] - 31s 341ms/step - loss: 0.0097 - accuracy: 0.9975 - val_loss: 0.9637 - val_accuracy: 0.7914
Epoch 31/400
90/90 [==============================] - 31s 345ms/step - loss: 0.0035 - accuracy: 0.9993 - val_loss: 0.9459 - val_accuracy: 0.8008
Epoch 32/400
90/90 [==============================] - 31s 345ms/step - loss: 0.0107 - accuracy: 0.9974 - val_loss: 0.9476 - val_accuracy: 0.8064
Epoch 33/400
90/90 [==============================] - 31s 344ms/step - loss: 0.0181 - accuracy: 0.9965 - val_loss: 0.9472 - val_accuracy: 0.8026
Epoch 34/400
90/90 [==============================] - 31s 344ms/step - loss: 0.0050 - accuracy: 0.9988 - val_loss: 0.9917 - val_accuracy: 0.8045
Epoch 35/400
90/90 [==============================] - 31s 345ms/step - loss: 0.0021 - accuracy: 0.9996 - val_loss: 0.9421 - val_accuracy: 0.8120
Epoch 36/400
90/90 [==============================] - 31s 344ms/step - loss: 0.0224 - accuracy: 0.9946 - val_loss: 0.9908 - val_accuracy: 0.7951
Epoch 37/400
90/90 [==============================] - 31s 344ms/step - loss: 0.0040 - accuracy: 0.9989 - val_loss: 0.9705 - val_accuracy: 0.7857
Epoch 38/400
90/90 [==============================] - 31s 344ms/step - loss: 0.0131 - accuracy: 0.9958 - val_loss: 1.0196 - val_accuracy: 0.8008
Epoch 39/400
90/90 [==============================] - 31s 345ms/step - loss: 0.0058 - accuracy: 0.9982 - val_loss: 0.9437 - val_accuracy: 0.8139
Epoch 40/400
90/90 [==============================] - 31s 344ms/step - loss: 0.0028 - accuracy: 0.9996 - val_loss: 0.9780 - val_accuracy: 0.8120
Epoch 41/400
90/90 [==============================] - 31s 344ms/step - loss: 0.0148 - accuracy: 0.9964 - val_loss: 1.0407 - val_accuracy: 0.7951
Epoch 42/400
90/90 [==============================] - 31s 344ms/step - loss: 0.0033 - accuracy: 0.9994 - val_loss: 0.9972 - val_accuracy: 0.8139
Epoch 43/400
90/90 [==============================] - 31s 344ms/step - loss: 0.0031 - accuracy: 0.9990 - val_loss: 0.9714 - val_accuracy: 0.8008
Epoch 44/400
90/90 [==============================] - 31s 344ms/step - loss: 0.0281 - accuracy: 0.9926 - val_loss: 0.9605 - val_accuracy: 0.7914
Epoch 45/400
90/90 [==============================] - 31s 344ms/step - loss: 0.0072 - accuracy: 0.9977 - val_loss: 0.9761 - val_accuracy: 0.7951
Epoch 46/400
90/90 [==============================] - 31s 344ms/step - loss: 0.0176 - accuracy: 0.9947 - val_loss: 1.2183 - val_accuracy: 0.7707
Epoch 47/400
90/90 [==============================] - 31s 344ms/step - loss: 0.0095 - accuracy: 0.9973 - val_loss: 0.9954 - val_accuracy: 0.7951
Epoch 48/400
90/90 [==============================] - 31s 344ms/step - loss: 0.0058 - accuracy: 0.9988 - val_loss: 0.9777 - val_accuracy: 0.8064
Epoch 49/400
90/90 [==============================] - 31s 344ms/step - loss: 0.0171 - accuracy: 0.9952 - val_loss: 1.1410 - val_accuracy: 0.7970
Epoch 50/400
90/90 [==============================] - 31s 345ms/step - loss: 0.0089 - accuracy: 0.9972 - val_loss: 1.0989 - val_accuracy: 0.7895
Epoch 51/400
90/90 [==============================] - 31s 348ms/step - loss: 0.0057 - accuracy: 0.9986 - val_loss: 1.1164 - val_accuracy: 0.7820
Epoch 52/400
90/90 [==============================] - 31s 347ms/step - loss: 0.0034 - accuracy: 0.9989 - val_loss: 1.1003 - val_accuracy: 0.8026
Epoch 53/400
90/90 [==============================] - 31s 347ms/step - loss: 0.0144 - accuracy: 0.9968 - val_loss: 0.9908 - val_accuracy: 0.8008
Epoch 54/400
90/90 [==============================] - 31s 349ms/step - loss: 0.0034 - accuracy: 0.9990 - val_loss: 1.0098 - val_accuracy: 0.8158
Epoch 55/400
90/90 [==============================] - 31s 345ms/step - loss: 0.0121 - accuracy: 0.9973 - val_loss: 1.0347 - val_accuracy: 0.8177
Epoch 56/400
90/90 [==============================] - 31s 344ms/step - loss: 0.0233 - accuracy: 0.9936 - val_loss: 1.0701 - val_accuracy: 0.7895
Epoch 57/400
90/90 [==============================] - 31s 344ms/step - loss: 0.0078 - accuracy: 0.9980 - val_loss: 1.0427 - val_accuracy: 0.7914
Epoch 58/400
90/90 [==============================] - 31s 344ms/step - loss: 0.0147 - accuracy: 0.9967 - val_loss: 1.0368 - val_accuracy: 0.8045
Epoch 59/400
90/90 [==============================] - 31s 344ms/step - loss: 0.0175 - accuracy: 0.9959 - val_loss: 1.0561 - val_accuracy: 0.7951
Epoch 60/400
90/90 [==============================] - 31s 345ms/step - loss: 0.0048 - accuracy: 0.9990 - val_loss: 0.9607 - val_accuracy: 0.8271
Epoch 61/400
90/90 [==============================] - 31s 345ms/step - loss: 0.0017 - accuracy: 0.9996 - val_loss: 0.9472 - val_accuracy: 0.8289
Epoch 62/400
90/90 [==============================] - 31s 345ms/step - loss: 0.0139 - accuracy: 0.9961 - val_loss: 0.9977 - val_accuracy: 0.8158
Epoch 63/400
90/90 [==============================] - 31s 344ms/step - loss: 0.0078 - accuracy: 0.9978 - val_loss: 0.9827 - val_accuracy: 0.8158
Epoch 64/400
90/90 [==============================] - 31s 345ms/step - loss: 0.0142 - accuracy: 0.9959 - val_loss: 1.0512 - val_accuracy: 0.8083
Epoch 65/400
90/90 [==============================] - 31s 344ms/step - loss: 0.0150 - accuracy: 0.9960 - val_loss: 0.9257 - val_accuracy: 0.8158
Epoch 66/400
90/90 [==============================] - 31s 344ms/step - loss: 0.0088 - accuracy: 0.9980 - val_loss: 0.9804 - val_accuracy: 0.8158
Epoch 67/400
90/90 [==============================] - 31s 345ms/step - loss: 0.0034 - accuracy: 0.9995 - val_loss: 0.9556 - val_accuracy: 0.8214
Epoch 68/400
90/90 [==============================] - 31s 344ms/step - loss: 0.0090 - accuracy: 0.9977 - val_loss: 0.9273 - val_accuracy: 0.8083
Epoch 69/400
90/90 [==============================] - 31s 345ms/step - loss: 0.0039 - accuracy: 0.9989 - val_loss: 0.9479 - val_accuracy: 0.8158
Epoch 70/400
90/90 [==============================] - 31s 344ms/step - loss: 0.0025 - accuracy: 0.9994 - val_loss: 0.9286 - val_accuracy: 0.8195
Epoch 71/400
90/90 [==============================] - 31s 344ms/step - loss: 0.0183 - accuracy: 0.9960 - val_loss: 1.1718 - val_accuracy: 0.8064
Epoch 72/400
90/90 [==============================] - 31s 344ms/step - loss: 0.0114 - accuracy: 0.9970 - val_loss: 1.0343 - val_accuracy: 0.8083
Epoch 73/400
90/90 [==============================] - 31s 345ms/step - loss: 0.0223 - accuracy: 0.9937 - val_loss: 0.7945 - val_accuracy: 0.8102
Epoch 74/400
90/90 [==============================] - 31s 344ms/step - loss: 0.0107 - accuracy: 0.9975 - val_loss: 0.8430 - val_accuracy: 0.8139
Epoch 75/400
90/90 [==============================] - 31s 345ms/step - loss: 0.0051 - accuracy: 0.9989 - val_loss: 0.8510 - val_accuracy: 0.8308
Epoch 76/400
90/90 [==============================] - 31s 344ms/step - loss: 0.0021 - accuracy: 0.9996 - val_loss: 0.8817 - val_accuracy: 0.8271
Epoch 77/400
90/90 [==============================] - 31s 344ms/step - loss: 0.0025 - accuracy: 0.9995 - val_loss: 0.8756 - val_accuracy: 0.8271
Epoch 78/400
90/90 [==============================] - 31s 344ms/step - loss: 0.0145 - accuracy: 0.9958 - val_loss: 0.8628 - val_accuracy: 0.8214
Epoch 79/400
90/90 [==============================] - 31s 345ms/step - loss: 0.0062 - accuracy: 0.9984 - val_loss: 0.8860 - val_accuracy: 0.8327
Epoch 80/400
90/90 [==============================] - 31s 344ms/step - loss: 0.0091 - accuracy: 0.9976 - val_loss: 0.8588 - val_accuracy: 0.8289
Epoch 81/400
90/90 [==============================] - 31s 344ms/step - loss: 0.0116 - accuracy: 0.9971 - val_loss: 0.8416 - val_accuracy: 0.8289
Epoch 82/400
90/90 [==============================] - 31s 344ms/step - loss: 0.0024 - accuracy: 0.9995 - val_loss: 0.8962 - val_accuracy: 0.8252
Epoch 83/400
90/90 [==============================] - 31s 345ms/step - loss: 0.0034 - accuracy: 0.9990 - val_loss: 0.9719 - val_accuracy: 0.8289
Epoch 84/400
90/90 [==============================] - 31s 345ms/step - loss: 0.0015 - accuracy: 0.9996 - val_loss: 0.9359 - val_accuracy: 0.8383
Epoch 85/400
90/90 [==============================] - 31s 344ms/step - loss: 9.8038e-04 - accuracy: 0.9998 - val_loss: 0.8988 - val_accuracy: 0.8365
Epoch 86/400
90/90 [==============================] - 31s 344ms/step - loss: 0.0030 - accuracy: 0.9994 - val_loss: 0.9150 - val_accuracy: 0.8289
Epoch 87/400
90/90 [==============================] - 31s 344ms/step - loss: 0.0203 - accuracy: 0.9959 - val_loss: 0.9694 - val_accuracy: 0.8102
Epoch 88/400
90/90 [==============================] - 31s 344ms/step - loss: 0.0030 - accuracy: 0.9996 - val_loss: 0.8703 - val_accuracy: 0.8252
Epoch 89/400
90/90 [==============================] - 31s 345ms/step - loss: 0.0023 - accuracy: 0.9996 - val_loss: 0.8329 - val_accuracy: 0.8383
Epoch 90/400
34/90 [==========>...................] - ETA: 19s - loss: 0.0167 - accuracy: 0.9947