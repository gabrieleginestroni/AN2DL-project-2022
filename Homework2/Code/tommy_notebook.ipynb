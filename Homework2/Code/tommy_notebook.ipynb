{
 "cells": [
  {
   "cell_type": "markdown",
   "id": "b0177dda",
   "metadata": {
    "papermill": {
     "duration": 0.005961,
     "end_time": "2022-12-19T10:16:09.579164",
     "exception": false,
     "start_time": "2022-12-19T10:16:09.573203",
     "status": "completed"
    },
    "tags": []
   },
   "source": [
    "#### General imports and definitions"
   ]
  },
  {
   "cell_type": "code",
   "execution_count": 1,
   "id": "540c2391",
   "metadata": {
    "execution": {
     "iopub.execute_input": "2022-12-19T10:16:09.591402Z",
     "iopub.status.busy": "2022-12-19T10:16:09.590561Z",
     "iopub.status.idle": "2022-12-19T10:16:15.347547Z",
     "shell.execute_reply": "2022-12-19T10:16:15.345452Z"
    },
    "papermill": {
     "duration": 5.765984,
     "end_time": "2022-12-19T10:16:15.350231",
     "exception": false,
     "start_time": "2022-12-19T10:16:09.584247",
     "status": "completed"
    },
    "tags": []
   },
   "outputs": [
    {
     "name": "stdout",
     "output_type": "stream",
     "text": [
      "2.6.4\n",
      "[PhysicalDevice(name='/physical_device:CPU:0', device_type='CPU'), PhysicalDevice(name='/physical_device:GPU:0', device_type='GPU')]\n"
     ]
    },
    {
     "name": "stderr",
     "output_type": "stream",
     "text": [
      "2022-12-19 10:16:15.254443: I tensorflow/stream_executor/cuda/cuda_gpu_executor.cc:937] successful NUMA node read from SysFS had negative value (-1), but there must be at least one NUMA node, so returning NUMA node zero\n",
      "2022-12-19 10:16:15.334750: I tensorflow/stream_executor/cuda/cuda_gpu_executor.cc:937] successful NUMA node read from SysFS had negative value (-1), but there must be at least one NUMA node, so returning NUMA node zero\n",
      "2022-12-19 10:16:15.335640: I tensorflow/stream_executor/cuda/cuda_gpu_executor.cc:937] successful NUMA node read from SysFS had negative value (-1), but there must be at least one NUMA node, so returning NUMA node zero\n"
     ]
    }
   ],
   "source": [
    "import tensorflow as tf\n",
    "import numpy as np\n",
    "import os\n",
    "import time\n",
    "import joblib\n",
    "import shutil\n",
    "import random\n",
    "import pandas as pd\n",
    "import seaborn as sns\n",
    "from sklearn.metrics import accuracy_score, f1_score, precision_score, recall_score, confusion_matrix\n",
    "from sklearn.preprocessing import MinMaxScaler, StandardScaler\n",
    "from sklearn.decomposition import PCA\n",
    "from sklearn.model_selection import train_test_split, KFold, StratifiedKFold\n",
    "from sklearn.utils import class_weight\n",
    "\n",
    "import matplotlib\n",
    "import matplotlib.pyplot as plt\n",
    "plt.rc('font', size=16) \n",
    "\n",
    "tfk = tf.keras\n",
    "tfkl = tf.keras.layers\n",
    "print(tf.__version__)\n",
    "print(tf.config.list_physical_devices())"
   ]
  },
  {
   "cell_type": "markdown",
   "id": "3408ec40",
   "metadata": {
    "papermill": {
     "duration": 0.005182,
     "end_time": "2022-12-19T10:16:15.360974",
     "exception": false,
     "start_time": "2022-12-19T10:16:15.355792",
     "status": "completed"
    },
    "tags": []
   },
   "source": [
    "Suppress warnings"
   ]
  },
  {
   "cell_type": "code",
   "execution_count": 2,
   "id": "9b0374ee",
   "metadata": {
    "execution": {
     "iopub.execute_input": "2022-12-19T10:16:15.373248Z",
     "iopub.status.busy": "2022-12-19T10:16:15.372710Z",
     "iopub.status.idle": "2022-12-19T10:16:15.379486Z",
     "shell.execute_reply": "2022-12-19T10:16:15.378419Z"
    },
    "papermill": {
     "duration": 0.015156,
     "end_time": "2022-12-19T10:16:15.381420",
     "exception": false,
     "start_time": "2022-12-19T10:16:15.366264",
     "status": "completed"
    },
    "tags": []
   },
   "outputs": [],
   "source": [
    "import warnings\n",
    "import logging\n",
    "\n",
    "os.environ['TF_CPP_MIN_LOG_LEVEL'] = '2'\n",
    "warnings.simplefilter(action='ignore', category=FutureWarning)\n",
    "warnings.simplefilter(action='ignore', category=Warning)\n",
    "tf.get_logger().setLevel('INFO')\n",
    "tf.autograph.set_verbosity(0)\n",
    "\n",
    "tf.get_logger().setLevel(logging.ERROR)\n",
    "tf.get_logger().setLevel('ERROR')\n",
    "tf.compat.v1.logging.set_verbosity(tf.compat.v1.logging.ERROR)"
   ]
  },
  {
   "cell_type": "markdown",
   "id": "d8e2bb3b",
   "metadata": {
    "papermill": {
     "duration": 0.00506,
     "end_time": "2022-12-19T10:16:15.392015",
     "exception": false,
     "start_time": "2022-12-19T10:16:15.386955",
     "status": "completed"
    },
    "tags": []
   },
   "source": [
    "Set seed for reproducibility"
   ]
  },
  {
   "cell_type": "code",
   "execution_count": 3,
   "id": "25322bb1",
   "metadata": {
    "execution": {
     "iopub.execute_input": "2022-12-19T10:16:15.405692Z",
     "iopub.status.busy": "2022-12-19T10:16:15.403892Z",
     "iopub.status.idle": "2022-12-19T10:16:15.410302Z",
     "shell.execute_reply": "2022-12-19T10:16:15.409287Z"
    },
    "papermill": {
     "duration": 0.014826,
     "end_time": "2022-12-19T10:16:15.412255",
     "exception": false,
     "start_time": "2022-12-19T10:16:15.397429",
     "status": "completed"
    },
    "tags": []
   },
   "outputs": [],
   "source": [
    "# Random seed for reproducibility\n",
    "seed = 42\n",
    "\n",
    "random.seed(seed)\n",
    "os.environ['PYTHONHASHSEED'] = str(seed)\n",
    "np.random.seed(seed)\n",
    "tf.random.set_seed(seed)\n",
    "tf.compat.v1.set_random_seed(seed)"
   ]
  },
  {
   "cell_type": "markdown",
   "id": "1448fd05",
   "metadata": {
    "papermill": {
     "duration": 0.00518,
     "end_time": "2022-12-19T10:16:15.423068",
     "exception": false,
     "start_time": "2022-12-19T10:16:15.417888",
     "status": "completed"
    },
    "tags": []
   },
   "source": [
    "#### Load and clean the dataset"
   ]
  },
  {
   "cell_type": "code",
   "execution_count": 4,
   "id": "f9ed3256",
   "metadata": {
    "execution": {
     "iopub.execute_input": "2022-12-19T10:16:15.434862Z",
     "iopub.status.busy": "2022-12-19T10:16:15.434071Z",
     "iopub.status.idle": "2022-12-19T10:16:15.568838Z",
     "shell.execute_reply": "2022-12-19T10:16:15.567757Z"
    },
    "papermill": {
     "duration": 0.143541,
     "end_time": "2022-12-19T10:16:15.571672",
     "exception": false,
     "start_time": "2022-12-19T10:16:15.428131",
     "status": "completed"
    },
    "tags": []
   },
   "outputs": [
    {
     "name": "stdout",
     "output_type": "stream",
     "text": [
      "(2429, 36, 6), float32\n",
      "(2429,), int8\n"
     ]
    }
   ],
   "source": [
    "# Load the .npy file\n",
    "X = np.load(r'../input/training/x_train.npy').astype(np.float32)\n",
    "y = np.load(r'../input/training/y_train.npy').astype(np.int8)\n",
    "\n",
    "# Leave a copy of numerical y\n",
    "y_num = np.copy(y)\n",
    "\n",
    "# Note as sequences are already built, with window 36\n",
    "print(X.shape, X.dtype, sep=\", \")   \n",
    "print(y.shape, y.dtype, sep=\", \") "
   ]
  },
  {
   "cell_type": "markdown",
   "id": "8023aa1c",
   "metadata": {
    "papermill": {
     "duration": 0.004838,
     "end_time": "2022-12-19T10:16:15.583471",
     "exception": false,
     "start_time": "2022-12-19T10:16:15.578633",
     "status": "completed"
    },
    "tags": []
   },
   "source": [
    "#### Drop features"
   ]
  },
  {
   "cell_type": "code",
   "execution_count": 5,
   "id": "af47f7c7",
   "metadata": {
    "execution": {
     "iopub.execute_input": "2022-12-19T10:16:15.595766Z",
     "iopub.status.busy": "2022-12-19T10:16:15.594316Z",
     "iopub.status.idle": "2022-12-19T10:16:15.602356Z",
     "shell.execute_reply": "2022-12-19T10:16:15.601148Z"
    },
    "papermill": {
     "duration": 0.016605,
     "end_time": "2022-12-19T10:16:15.604931",
     "exception": false,
     "start_time": "2022-12-19T10:16:15.588326",
     "status": "completed"
    },
    "tags": []
   },
   "outputs": [
    {
     "name": "stdout",
     "output_type": "stream",
     "text": [
      "(2429, 36, 6)\n"
     ]
    }
   ],
   "source": [
    "def keep_only(X, features_list):\n",
    "    n_instances, n_timestamps, n_features = X.shape\n",
    "    X = np.reshape(X, newshape=(-1, n_features))\n",
    "    temp = np.empty((n_instances * n_timestamps, len(features_list)))\n",
    "    \n",
    "    i = 0\n",
    "    for f in features_list:\n",
    "        temp[:, i] = X[:, f]\n",
    "        i += 1\n",
    "    \n",
    "    temp = np.reshape(temp, newshape=(n_instances, n_timestamps, len(features_list)))\n",
    "    return temp\n",
    "\n",
    "drop = False\n",
    "\n",
    "if drop:\n",
    "    X = keep_only(X, [1, 2, 3, 4, 5])\n",
    "    \n",
    "print(X.shape)"
   ]
  },
  {
   "cell_type": "code",
   "execution_count": 6,
   "id": "74e1dbe7",
   "metadata": {
    "execution": {
     "iopub.execute_input": "2022-12-19T10:16:15.617193Z",
     "iopub.status.busy": "2022-12-19T10:16:15.616369Z",
     "iopub.status.idle": "2022-12-19T10:16:15.653324Z",
     "shell.execute_reply": "2022-12-19T10:16:15.651917Z"
    },
    "papermill": {
     "duration": 0.045168,
     "end_time": "2022-12-19T10:16:15.655546",
     "exception": false,
     "start_time": "2022-12-19T10:16:15.610378",
     "status": "completed"
    },
    "tags": []
   },
   "outputs": [
    {
     "name": "stdout",
     "output_type": "stream",
     "text": [
      "{0: 5.953431372549019, 1: 1.6456639566395663, 2: 0.7496913580246913, 3: 0.5312773403324584, 4: 3.264784946236559, 5: 1.3229847494553377, 6: 0.6466986155484558, 7: 2.9767156862745097, 8: 1.6868055555555554, 9: 0.2605105105105105, 10: 2.628787878787879, 11: 3.968954248366013} \n",
      "\n",
      "(1943, 36, 6) (1943, 12)\n",
      "(486, 36, 6) (486, 12)\n"
     ]
    }
   ],
   "source": [
    "# Compute the class weights in order to balance loss during training\n",
    "labels = np.unique(np.fromiter([t for t in y], np.int32))\n",
    "class_weights = dict(enumerate(class_weight.compute_class_weight('balanced', classes=labels, y=y)))\n",
    "print(class_weights, '\\n')\n",
    "\n",
    "# Convert the sparse labels to categorical values\n",
    "y = tfk.utils.to_categorical(y)\n",
    "\n",
    "# Split the data into train and test sets\n",
    "X_train, X_test, y_train, y_test = train_test_split(X, y, test_size=0.2, stratify=y)\n",
    "print(X_train.shape, y_train.shape)\n",
    "print(X_test.shape, y_test.shape)"
   ]
  },
  {
   "cell_type": "markdown",
   "id": "1530b6f0",
   "metadata": {
    "papermill": {
     "duration": 0.005551,
     "end_time": "2022-12-19T10:16:15.666869",
     "exception": false,
     "start_time": "2022-12-19T10:16:15.661318",
     "status": "completed"
    },
    "tags": []
   },
   "source": [
    "#### Metadata"
   ]
  },
  {
   "cell_type": "code",
   "execution_count": 7,
   "id": "8ba40d36",
   "metadata": {
    "execution": {
     "iopub.execute_input": "2022-12-19T10:16:15.679300Z",
     "iopub.status.busy": "2022-12-19T10:16:15.678519Z",
     "iopub.status.idle": "2022-12-19T10:16:15.685137Z",
     "shell.execute_reply": "2022-12-19T10:16:15.684285Z"
    },
    "papermill": {
     "duration": 0.014675,
     "end_time": "2022-12-19T10:16:15.687027",
     "exception": false,
     "start_time": "2022-12-19T10:16:15.672352",
     "status": "completed"
    },
    "tags": []
   },
   "outputs": [],
   "source": [
    "classes = y_train.shape[-1]\n",
    "label_mapping = {\n",
    "    'Wish': 0,\n",
    "    'Another': 1,\n",
    "    'Comfortably': 2,\n",
    "    'Money': 3,\n",
    "    'Breathe': 4,\n",
    "    'Time': 5,\n",
    "    'Brain': 6,\n",
    "    'Echoes': 7,\n",
    "    'Wearing': 8,\n",
    "    'Sorrow': 9,\n",
    "    'Hey': 10,\n",
    "    'Shine': 11,  \n",
    "}\n",
    "\n",
    "# For training\n",
    "batch_size = 2048\n",
    "epochs = 1000\n",
    "\n",
    "# Define the scaler we intend to use\n",
    "scaler = StandardScaler()\n",
    "\n",
    "# Define the PCA\n",
    "final_dim = 5\n",
    "pca = PCA(n_components=final_dim, random_state=42)\n",
    "\n",
    "# Define the K-fold Cross Validator\n",
    "num_folds = 10\n",
    "kfold = StratifiedKFold(n_splits=num_folds, shuffle=True)"
   ]
  },
  {
   "cell_type": "markdown",
   "id": "fdad7f5c",
   "metadata": {
    "papermill": {
     "duration": 0.004758,
     "end_time": "2022-12-19T10:16:15.696836",
     "exception": false,
     "start_time": "2022-12-19T10:16:15.692078",
     "status": "completed"
    },
    "tags": []
   },
   "source": [
    "#### Data scaling"
   ]
  },
  {
   "cell_type": "code",
   "execution_count": 8,
   "id": "75386a59",
   "metadata": {
    "execution": {
     "iopub.execute_input": "2022-12-19T10:16:15.708585Z",
     "iopub.status.busy": "2022-12-19T10:16:15.707734Z",
     "iopub.status.idle": "2022-12-19T10:16:15.765985Z",
     "shell.execute_reply": "2022-12-19T10:16:15.764997Z"
    },
    "papermill": {
     "duration": 0.06775,
     "end_time": "2022-12-19T10:16:15.769637",
     "exception": false,
     "start_time": "2022-12-19T10:16:15.701887",
     "status": "completed"
    },
    "tags": []
   },
   "outputs": [
    {
     "name": "stdout",
     "output_type": "stream",
     "text": [
      "(1943, 36, 5) float32\n",
      "(486, 36, 5) float32\n"
     ]
    }
   ],
   "source": [
    "def scale(X_train, X_test, scaler, pca):\n",
    "    n_instances_train = X_train.shape[0]\n",
    "    X_train = np.reshape(X_train, newshape=(-1, 6))\n",
    "    X_train = scaler.fit_transform(X_train)\n",
    "    X_train = pca.fit_transform(X_train)\n",
    "    X_train = np.reshape(X_train, newshape=(n_instances_train, 36, final_dim))\n",
    "    \n",
    "    if X_test is not None:\n",
    "        n_instances_test = X_test.shape[0]\n",
    "        X_test = np.reshape(X_test, newshape=(-1, 6))\n",
    "        X_test = scaler.transform(X_test)\n",
    "        X_test = pca.transform(X_test)\n",
    "        X_test = np.reshape(X_test, newshape=(n_instances_test, 36, final_dim))\n",
    "        return X_train, X_test\n",
    "    \n",
    "    return X_train, None\n",
    "\n",
    "scaling = True\n",
    "\n",
    "if scaling:\n",
    "    X_train, X_test = scale(X_train, X_test, scaler, pca)\n",
    "    \n",
    "print(X_train.shape, X_train.dtype)\n",
    "print(X_test.shape, X_test.dtype)"
   ]
  },
  {
   "cell_type": "code",
   "execution_count": 9,
   "id": "b1e6108c",
   "metadata": {
    "execution": {
     "iopub.execute_input": "2022-12-19T10:16:15.823792Z",
     "iopub.status.busy": "2022-12-19T10:16:15.823293Z",
     "iopub.status.idle": "2022-12-19T10:16:15.829004Z",
     "shell.execute_reply": "2022-12-19T10:16:15.827982Z"
    },
    "papermill": {
     "duration": 0.035004,
     "end_time": "2022-12-19T10:16:15.831974",
     "exception": false,
     "start_time": "2022-12-19T10:16:15.796970",
     "status": "completed"
    },
    "tags": []
   },
   "outputs": [],
   "source": [
    "input_shape = X_train.shape[1:]\n",
    "n_timestamps, n_features = input_shape"
   ]
  },
  {
   "cell_type": "markdown",
   "id": "6e670362",
   "metadata": {
    "papermill": {
     "duration": 0.024655,
     "end_time": "2022-12-19T10:16:15.882687",
     "exception": false,
     "start_time": "2022-12-19T10:16:15.858032",
     "status": "completed"
    },
    "tags": []
   },
   "source": [
    "#### Support functions"
   ]
  },
  {
   "cell_type": "code",
   "execution_count": 10,
   "id": "9f73e08e",
   "metadata": {
    "execution": {
     "iopub.execute_input": "2022-12-19T10:16:15.903056Z",
     "iopub.status.busy": "2022-12-19T10:16:15.902745Z",
     "iopub.status.idle": "2022-12-19T10:16:15.917513Z",
     "shell.execute_reply": "2022-12-19T10:16:15.916622Z"
    },
    "papermill": {
     "duration": 0.022757,
     "end_time": "2022-12-19T10:16:15.919598",
     "exception": false,
     "start_time": "2022-12-19T10:16:15.896841",
     "status": "completed"
    },
    "tags": []
   },
   "outputs": [],
   "source": [
    "def plot_history(history):\n",
    "    best_epoch = np.argmax(history['val_accuracy'])\n",
    "    plt.figure(figsize=(17,4))\n",
    "    plt.plot(history['loss'], label='Training loss', alpha=.8, color='#ff7f0e')\n",
    "    plt.plot(history['val_loss'], label='Validation loss', alpha=.9, color='#5a9aa5')\n",
    "    plt.axvline(x=best_epoch, label='Best epoch', alpha=.3, ls='--', color='#5a9aa5')\n",
    "    plt.title('Categorical Crossentropy')\n",
    "    plt.legend()\n",
    "    plt.grid(alpha=.3)\n",
    "    plt.show()\n",
    "\n",
    "    plt.figure(figsize=(17,4))\n",
    "    plt.plot(history['accuracy'], label='Training accuracy', alpha=.8, color='#ff7f0e')\n",
    "    plt.plot(history['val_accuracy'], label='Validation accuracy', alpha=.9, color='#5a9aa5')\n",
    "    plt.axvline(x=best_epoch, label='Best epoch', alpha=.3, ls='--', color='#5a9aa5')\n",
    "    plt.title('Accuracy')\n",
    "    plt.legend()\n",
    "    plt.grid(alpha=.3)\n",
    "    plt.show()\n",
    "\n",
    "    plt.figure(figsize=(17,4))\n",
    "    plt.plot(history['lr'], label='Learning Rate', alpha=.8, color='#ff7f0e')\n",
    "    plt.axvline(x=best_epoch, label='Best epoch', alpha=.3, ls='--', color='#5a9aa5')\n",
    "    plt.legend()\n",
    "    plt.grid(alpha=.3)\n",
    "    plt.show()\n",
    "\n",
    "def plot_cm(model):\n",
    "    # Predict the test set with the LSTM\n",
    "    predictions = model.predict(X_test)\n",
    "    predictions.shape\n",
    "\n",
    "    # Compute the confusion matrix\n",
    "    cm = confusion_matrix(np.argmax(y_test, axis=-1), np.argmax(predictions, axis=-1))\n",
    "\n",
    "    # Compute the classification metrics\n",
    "    accuracy = accuracy_score(np.argmax(y_test, axis=-1), np.argmax(predictions, axis=-1))\n",
    "    precision = precision_score(np.argmax(y_test, axis=-1), np.argmax(predictions, axis=-1), average='macro')\n",
    "    recall = recall_score(np.argmax(y_test, axis=-1), np.argmax(predictions, axis=-1), average='macro')\n",
    "    f1 = f1_score(np.argmax(y_test, axis=-1), np.argmax(predictions, axis=-1), average=None)\n",
    "    print('Accuracy:',accuracy.round(4))\n",
    "    print('Precision:',precision.round(4))\n",
    "    print('Recall:',recall.round(4))\n",
    "    print('F1:',f1.round(4))\n",
    "\n",
    "    # Plot the confusion matrix\n",
    "    plt.figure(figsize=(10,8))\n",
    "    sns.heatmap(cm.T, cmap='Blues', xticklabels=list(label_mapping.keys()), yticklabels=list(label_mapping.keys()), annot=True, fmt=\"d\")\n",
    "    plt.xlabel('True labels')\n",
    "    plt.ylabel('Predicted labels')\n",
    "    plt.show()"
   ]
  },
  {
   "cell_type": "markdown",
   "id": "a0d3649b",
   "metadata": {
    "papermill": {
     "duration": 0.005085,
     "end_time": "2022-12-19T10:16:15.930033",
     "exception": false,
     "start_time": "2022-12-19T10:16:15.924948",
     "status": "completed"
    },
    "tags": []
   },
   "source": [
    "#### Classifier"
   ]
  },
  {
   "cell_type": "code",
   "execution_count": 11,
   "id": "cb7a240b",
   "metadata": {
    "execution": {
     "iopub.execute_input": "2022-12-19T10:16:15.942117Z",
     "iopub.status.busy": "2022-12-19T10:16:15.941822Z",
     "iopub.status.idle": "2022-12-19T10:16:15.951487Z",
     "shell.execute_reply": "2022-12-19T10:16:15.950507Z"
    },
    "papermill": {
     "duration": 0.018218,
     "end_time": "2022-12-19T10:16:15.953503",
     "exception": false,
     "start_time": "2022-12-19T10:16:15.935285",
     "status": "completed"
    },
    "tags": []
   },
   "outputs": [],
   "source": [
    "# we advice to choose what parameters to change and include them directly among the attributes of this function\n",
    "def build_TS_classifier(input_shape, classes):\n",
    "    \n",
    "    input_layer = tfkl.Input(shape=input_shape)\n",
    "    \n",
    "    # Convolutional\n",
    "    x = tfkl.Conv1D(\n",
    "        filters = 1024,\n",
    "        kernel_size = 3,\n",
    "        padding = 'same',\n",
    "        activation = 'relu'\n",
    "        )(input_layer)\n",
    "    \n",
    "    x = tfkl.Dropout(0.2, seed=seed)(x)\n",
    "    \n",
    "    x = tfkl.MaxPooling1D()(x)\n",
    "\n",
    "    x = tfkl.Conv1D(\n",
    "        filters = 1024,\n",
    "        kernel_size = 3,\n",
    "        padding = 'same',\n",
    "        activation = 'relu'\n",
    "        )(x)\n",
    "    \n",
    "    x = tfkl.Dropout(0.2, seed=seed)(x)\n",
    "    \n",
    "    x = tfkl.MaxPooling1D()(x)\n",
    "\n",
    "    x = tfkl.Conv1D(\n",
    "        filters = 2048,\n",
    "        kernel_size = 3,\n",
    "        padding = 'same',\n",
    "        activation = 'relu'\n",
    "        )(x)\n",
    "    \n",
    "    x = tfkl.Dropout(0.2, seed=seed)(x)\n",
    "    \n",
    "    #x = tfkl.AveragePooling1D()(x)\n",
    "    \n",
    "    # LSTMs\n",
    "    x = tfkl.Bidirectional(tfkl.GRU(64, return_sequences=True))(x)\n",
    "    \n",
    "    x = tfkl.Dropout(0.2, seed=seed)(x)\n",
    "    \n",
    "    x = tfkl.Bidirectional(tfkl.GRU(32))(x)\n",
    "    \n",
    "    x = tfkl.Dropout(0.2, seed=seed)(x)\n",
    "    \n",
    "    # Classifier\n",
    "    output_layer = tfkl.Dense(classes, activation='softmax')(x)\n",
    "\n",
    "    # Connect input and output through the Model class\n",
    "    model = tfk.Model(inputs=input_layer, outputs=output_layer, name='best_model')\n",
    "\n",
    "    # Compile the model\n",
    "    model.compile(loss=tfk.losses.CategoricalCrossentropy(), optimizer=tfk.optimizers.Adam(3e-3), metrics='accuracy')\n",
    "\n",
    "    # Return the model\n",
    "    return model"
   ]
  },
  {
   "cell_type": "code",
   "execution_count": 12,
   "id": "83d639e5",
   "metadata": {
    "execution": {
     "iopub.execute_input": "2022-12-19T10:16:15.964886Z",
     "iopub.status.busy": "2022-12-19T10:16:15.964626Z",
     "iopub.status.idle": "2022-12-19T10:31:34.963794Z",
     "shell.execute_reply": "2022-12-19T10:31:34.962889Z"
    },
    "papermill": {
     "duration": 919.007562,
     "end_time": "2022-12-19T10:31:34.966026",
     "exception": false,
     "start_time": "2022-12-19T10:16:15.958464",
     "status": "completed"
    },
    "tags": []
   },
   "outputs": [
    {
     "name": "stdout",
     "output_type": "stream",
     "text": [
      "°°°°°°°°°°°°°°°°°°°°°°°°°°°°°°°°°°° START °°°°°°°°°°°°°°°°°°°°°°°°°°°°°°°°°°°°°\n",
      "Training for fold 1  "
     ]
    },
    {
     "name": "stderr",
     "output_type": "stream",
     "text": [
      "2022-12-19 10:16:16.009076: I tensorflow/core/platform/cpu_feature_guard.cc:142] This TensorFlow binary is optimized with oneAPI Deep Neural Network Library (oneDNN) to use the following CPU instructions in performance-critical operations:  AVX2 AVX512F FMA\n",
      "To enable them in other operations, rebuild TensorFlow with the appropriate compiler flags.\n",
      "2022-12-19 10:16:16.009533: I tensorflow/stream_executor/cuda/cuda_gpu_executor.cc:937] successful NUMA node read from SysFS had negative value (-1), but there must be at least one NUMA node, so returning NUMA node zero\n",
      "2022-12-19 10:16:16.010423: I tensorflow/stream_executor/cuda/cuda_gpu_executor.cc:937] successful NUMA node read from SysFS had negative value (-1), but there must be at least one NUMA node, so returning NUMA node zero\n",
      "2022-12-19 10:16:16.011097: I tensorflow/stream_executor/cuda/cuda_gpu_executor.cc:937] successful NUMA node read from SysFS had negative value (-1), but there must be at least one NUMA node, so returning NUMA node zero\n",
      "2022-12-19 10:16:17.962679: I tensorflow/stream_executor/cuda/cuda_gpu_executor.cc:937] successful NUMA node read from SysFS had negative value (-1), but there must be at least one NUMA node, so returning NUMA node zero\n",
      "2022-12-19 10:16:17.963576: I tensorflow/stream_executor/cuda/cuda_gpu_executor.cc:937] successful NUMA node read from SysFS had negative value (-1), but there must be at least one NUMA node, so returning NUMA node zero\n",
      "2022-12-19 10:16:17.964255: I tensorflow/stream_executor/cuda/cuda_gpu_executor.cc:937] successful NUMA node read from SysFS had negative value (-1), but there must be at least one NUMA node, so returning NUMA node zero\n",
      "2022-12-19 10:16:17.964834: I tensorflow/core/common_runtime/gpu/gpu_device.cc:1510] Created device /job:localhost/replica:0/task:0/device:GPU:0 with 15401 MB memory:  -> device: 0, name: Tesla P100-PCIE-16GB, pci bus id: 0000:00:04.0, compute capability: 6.0\n",
      "2022-12-19 10:16:19.647399: I tensorflow/compiler/mlir/mlir_graph_optimization_pass.cc:185] None of the MLIR Optimization Passes are enabled (registered 2)\n",
      "2022-12-19 10:16:25.003313: I tensorflow/stream_executor/cuda/cuda_dnn.cc:369] Loaded cuDNN version 8005\n"
     ]
    },
    {
     "name": "stdout",
     "output_type": "stream",
     "text": [
      "==> score: accuracy of 65.844% (elapsed time: 52.555 sec)\n",
      "-------------------------------------------------------------------------------\n",
      "Training for fold 2  ==> score: accuracy of 70.782% (elapsed time: 71.160 sec)\n",
      "-------------------------------------------------------------------------------\n",
      "Training for fold 3  ==> score: accuracy of 68.724% (elapsed time: 82.364 sec)\n",
      "-------------------------------------------------------------------------------\n",
      "Training for fold 4  ==> score: accuracy of 74.486% (elapsed time: 79.449 sec)\n",
      "-------------------------------------------------------------------------------\n",
      "Training for fold 5  ==> score: accuracy of 73.251% (elapsed time: 70.584 sec)\n",
      "-------------------------------------------------------------------------------\n",
      "Training for fold 6  ==> score: accuracy of 76.955% (elapsed time: 94.116 sec)\n",
      "-------------------------------------------------------------------------------\n",
      "Training for fold 7  ==> score: accuracy of 68.313% (elapsed time: 77.083 sec)\n",
      "-------------------------------------------------------------------------------\n",
      "Training for fold 8  ==> score: accuracy of 76.132% (elapsed time: 78.770 sec)\n",
      "-------------------------------------------------------------------------------\n",
      "Training for fold 9  ==> score: accuracy of 76.543% (elapsed time: 106.998 sec)\n",
      "-------------------------------------------------------------------------------\n",
      "Training for fold 10  ==> score: accuracy of 73.967% (elapsed time: 79.775 sec)\n",
      "-------------------------------------------------------------------------------\n",
      "\n",
      "Average scores for all folds:\n",
      "> Accuracy: 72.500% (+- 3.675%)\n",
      "°°°°°°°°°°°°°°°°°°°°°°°°°°°°°°°°°°°°°°°°°°°°°°°°°°°°°°°°°°°°°°°°°°°°°°°°°°°°\n",
      "Model: \"best_model\"\n",
      "_________________________________________________________________\n",
      "Layer (type)                 Output Shape              Param #   \n",
      "=================================================================\n",
      "input_6 (InputLayer)         [(None, 36, 5)]           0         \n",
      "_________________________________________________________________\n",
      "conv1d_15 (Conv1D)           (None, 36, 1024)          16384     \n",
      "_________________________________________________________________\n",
      "dropout_25 (Dropout)         (None, 36, 1024)          0         \n",
      "_________________________________________________________________\n",
      "max_pooling1d_10 (MaxPooling (None, 18, 1024)          0         \n",
      "_________________________________________________________________\n",
      "conv1d_16 (Conv1D)           (None, 18, 1024)          3146752   \n",
      "_________________________________________________________________\n",
      "dropout_26 (Dropout)         (None, 18, 1024)          0         \n",
      "_________________________________________________________________\n",
      "max_pooling1d_11 (MaxPooling (None, 9, 1024)           0         \n",
      "_________________________________________________________________\n",
      "conv1d_17 (Conv1D)           (None, 9, 2048)           6293504   \n",
      "_________________________________________________________________\n",
      "dropout_27 (Dropout)         (None, 9, 2048)           0         \n",
      "_________________________________________________________________\n",
      "bidirectional_10 (Bidirectio (None, 9, 128)            811776    \n",
      "_________________________________________________________________\n",
      "dropout_28 (Dropout)         (None, 9, 128)            0         \n",
      "_________________________________________________________________\n",
      "bidirectional_11 (Bidirectio (None, 64)                31104     \n",
      "_________________________________________________________________\n",
      "dropout_29 (Dropout)         (None, 64)                0         \n",
      "_________________________________________________________________\n",
      "dense_5 (Dense)              (None, 12)                780       \n",
      "=================================================================\n",
      "Total params: 10,300,300\n",
      "Trainable params: 10,300,300\n",
      "Non-trainable params: 0\n",
      "_________________________________________________________________\n"
     ]
    },
    {
     "data": {
      "image/png": "[encoded data removed]",
      "text/plain": [
       "<Figure size 1224x288 with 1 Axes>"
      ]
     },
     "metadata": {
      "needs_background": "light"
     },
     "output_type": "display_data"
    },
    {
     "data": {
      "image/png": "[encoded data removed]",
      "text/plain": [
       "<Figure size 1224x288 with 1 Axes>"
      ]
     },
     "metadata": {
      "needs_background": "light"
     },
     "output_type": "display_data"
    },
    {
     "data": {
      "image/png": "[encoded data removed]",
      "text/plain": [
       "<Figure size 1224x288 with 1 Axes>"
      ]
     },
     "metadata": {
      "needs_background": "light"
     },
     "output_type": "display_data"
    }
   ],
   "source": [
    "cross_val = True\n",
    "final_train = False\n",
    "\n",
    "if cross_val:\n",
    "    best_acc = 0\n",
    "    best_model = None\n",
    "    best_scaler = None\n",
    "    best_pca = None\n",
    "    best_history =  []\n",
    "    \n",
    "    # grid search FORs go here (remember to indent the following code: SEE THEN)\n",
    "    #print(f'°°°°°°°°°°°°°°°°°°°°°°°°°°°°°°°° MODEL {i} °°°°°°°°°°°°°°°°°°°°°°°°°°°°°°°°°°°')\n",
    "    \n",
    "    print(f'°°°°°°°°°°°°°°°°°°°°°°°°°°°°°°°°°°° START °°°°°°°°°°°°°°°°°°°°°°°°°°°°°°°°°°°°°')\n",
    "\n",
    "    acc_per_fold = []\n",
    "    fold_no = 1\n",
    "    for train, test in kfold.split(X, y_num):\n",
    "        print(f'Training for fold {fold_no} ', end=' ')\n",
    "\n",
    "        # Intantiate a new model\n",
    "        model = build_TS_classifier(input_shape, classes)\n",
    "        \n",
    "        # Define targets\n",
    "        y_train = np.copy(y[train])\n",
    "        y_test = np.copy(y[test])\n",
    "        \n",
    "        # Apply scaling\n",
    "        X_train, X_test = scale(np.copy(X[train]), np.copy(X[test]), scaler, pca)\n",
    "        \n",
    "        start = time.time()\n",
    "        history = model.fit(X_train, y_train,\n",
    "                  batch_size = batch_size,\n",
    "                  epochs = epochs,\n",
    "                  validation_data = (X_test, y_test),\n",
    "                  #class_weight = class_weights,\n",
    "                  verbose = 0,\n",
    "                  callbacks = [\n",
    "                      tfk.callbacks.EarlyStopping(monitor='val_accuracy', mode='max', patience=51, restore_best_weights=True),\n",
    "                      tfk.callbacks.ReduceLROnPlateau(monitor='val_accuracy', mode='max', patience=10, factor=tf.math.exp(-0.1), min_lr=2e-5)\n",
    "                  ]\n",
    "        ).history\n",
    "        end = time.time()\n",
    "\n",
    "        # Generate generalization metrics\n",
    "        acc = np.max(history['val_accuracy']) * 100\n",
    "        print(f'==> score: accuracy of {acc:.3f}% (elapsed time: {(end - start):.3f} sec)')\n",
    "        acc_per_fold.append(acc)\n",
    "        if not final_train and acc > best_acc:\n",
    "            best_acc = acc\n",
    "            best_model = model\n",
    "            best_history = history\n",
    "            best_scaler = scaler\n",
    "            best_pca = pca\n",
    "\n",
    "        # Increase fold number\n",
    "        fold_no = fold_no + 1\n",
    "        print('-------------------------------------------------------------------------------')\n",
    "\n",
    "    print('\\nAverage scores for all folds:')\n",
    "    acc = np.mean(acc_per_fold)\n",
    "    print(f'> Accuracy: {acc:.3f}% (+- {np.std(acc_per_fold):.3f}%)')\n",
    "    if final_train and acc > best_acc:\n",
    "            best_acc = acc\n",
    "            best_model = model\n",
    "            best_history = history\n",
    "    \n",
    "    # INDENT TILL THE PREVIOUS LINE\n",
    "    print('°°°°°°°°°°°°°°°°°°°°°°°°°°°°°°°°°°°°°°°°°°°°°°°°°°°°°°°°°°°°°°°°°°°°°°°°°°°°')\n",
    "              \n",
    "    # Plot results\n",
    "    best_model.summary()\n",
    "    plot_history(best_history)\n",
    "\n",
    "    # Retrain the best model on the whole dataset\n",
    "    if final_train:\n",
    "        \n",
    "        # Reinstanciate the model (if we have parameters we must pass them over)\n",
    "        best_model = build_TS_classifier(input_shape, classes)\n",
    "        \n",
    "        # Apply scaling\n",
    "        X, _ = scale(X, None, scaler, pca)\n",
    "        \n",
    "        best_model.fit(\n",
    "            x = X,\n",
    "            y = y,\n",
    "            batch_size = batch_size,\n",
    "            epochs = epochs,\n",
    "            #class_weight = class_weights,\n",
    "            callbacks = [\n",
    "                tfk.callbacks.EarlyStopping(monitor='accuracy', mode='max', patience=81, restore_best_weights=True),\n",
    "                tfk.callbacks.ReduceLROnPlateau(monitor='accuracy', mode='max', patience=10, factor=tf.math.exp(-0.1), min_lr=2e-5)\n",
    "            ]\n",
    "        )\n",
    "    \n",
    "else:\n",
    "    \n",
    "    best_model = build_TS_classifier(input_shape, classes)\n",
    "    best_model.summary()\n",
    "    \n",
    "    # Train the model\n",
    "    best_history = best_model.fit(\n",
    "        x = X_train,\n",
    "        y = y_train,\n",
    "        batch_size = batch_size,\n",
    "        epochs = epochs,\n",
    "        validation_data = (X_test, y_test),\n",
    "        #class_weight = class_weights,\n",
    "        callbacks = [\n",
    "            tfk.callbacks.EarlyStopping(monitor='val_accuracy', mode='max', patience=81, restore_best_weights=True),\n",
    "            tfk.callbacks.ReduceLROnPlateau(monitor='val_accuracy', mode='max', patience=10, factor=tf.math.exp(-0.1), min_lr=2e-5)\n",
    "        ]\n",
    "    ).history\n",
    "\n",
    "    # Plot results\n",
    "    plot_history(best_history)\n",
    "    plot_cm(best_model)"
   ]
  },
  {
   "cell_type": "markdown",
   "id": "e7cc0fab",
   "metadata": {
    "papermill": {
     "duration": 0.007337,
     "end_time": "2022-12-19T10:31:34.981258",
     "exception": false,
     "start_time": "2022-12-19T10:31:34.973921",
     "status": "completed"
    },
    "tags": []
   },
   "source": [
    "#### Save the scalers"
   ]
  },
  {
   "cell_type": "code",
   "execution_count": 13,
   "id": "87f80302",
   "metadata": {
    "execution": {
     "iopub.execute_input": "2022-12-19T10:31:34.997507Z",
     "iopub.status.busy": "2022-12-19T10:31:34.997214Z",
     "iopub.status.idle": "2022-12-19T10:31:35.008211Z",
     "shell.execute_reply": "2022-12-19T10:31:35.007191Z"
    },
    "papermill": {
     "duration": 0.021618,
     "end_time": "2022-12-19T10:31:35.010358",
     "exception": false,
     "start_time": "2022-12-19T10:31:34.988740",
     "status": "completed"
    },
    "tags": []
   },
   "outputs": [
    {
     "data": {
      "text/plain": [
       "'/kaggle/working/scalers.zip'"
      ]
     },
     "execution_count": 13,
     "metadata": {},
     "output_type": "execute_result"
    }
   ],
   "source": [
    "# Needed to write correct preprocessing code: returns the scalers fit on the whole dataset only if \n",
    "# the \"final_train\" flag is set, otherwise returns the ones fit on the best fold\n",
    "if not final_train:\n",
    "    scaler = best_scaler\n",
    "    pca = best_pca\n",
    "    \n",
    "if \"scalers\" not in os.listdir():\n",
    "    os.mkdir(\"scalers\")\n",
    "    \n",
    "scaler_filename = \"scalers/scaler.save\"\n",
    "joblib.dump(scaler, scaler_filename) \n",
    "pca_filename = \"scalers/pca.save\"\n",
    "joblib.dump(pca, pca_filename) \n",
    "\n",
    "shutil.make_archive('scalers', 'zip', 'scalers')"
   ]
  },
  {
   "cell_type": "markdown",
   "id": "077bd76f",
   "metadata": {
    "papermill": {
     "duration": 0.007291,
     "end_time": "2022-12-19T10:31:35.025031",
     "exception": false,
     "start_time": "2022-12-19T10:31:35.017740",
     "status": "completed"
    },
    "tags": []
   },
   "source": [
    "#### Save the model"
   ]
  },
  {
   "cell_type": "code",
   "execution_count": 14,
   "id": "e5b1cacd",
   "metadata": {
    "execution": {
     "iopub.execute_input": "2022-12-19T10:31:35.040896Z",
     "iopub.status.busy": "2022-12-19T10:31:35.040625Z",
     "iopub.status.idle": "2022-12-19T10:32:00.123753Z",
     "shell.execute_reply": "2022-12-19T10:32:00.122808Z"
    },
    "papermill": {
     "duration": 25.093671,
     "end_time": "2022-12-19T10:32:00.126059",
     "exception": false,
     "start_time": "2022-12-19T10:31:35.032388",
     "status": "completed"
    },
    "tags": []
   },
   "outputs": [
    {
     "name": "stderr",
     "output_type": "stream",
     "text": [
      "2022-12-19 10:31:42.985233: W tensorflow/python/util/util.cc:348] Sets are not currently considered sequences, but this may change in the future, so consider avoiding using them.\n"
     ]
    },
    {
     "data": {
      "text/plain": [
       "'/kaggle/working/best_model.zip'"
      ]
     },
     "execution_count": 14,
     "metadata": {},
     "output_type": "execute_result"
    }
   ],
   "source": [
    "best_model.save('best_model')\n",
    "\n",
    "shutil.make_archive('best_model', 'zip', 'best_model')"
   ]
  }
 ],
 "metadata": {
  "kernelspec": {
   "display_name": "Python 3",
   "language": "python",
   "name": "python3"
  },
  "language_info": {
   "codemirror_mode": {
    "name": "ipython",
    "version": 3
   },
   "file_extension": ".py",
   "mimetype": "text/x-python",
   "name": "python",
   "nbconvert_exporter": "python",
   "pygments_lexer": "ipython3",
   "version": "3.7.12"
  },
  "papermill": {
   "default_parameters": {},
   "duration": 961.672528,
   "end_time": "2022-12-19T10:32:03.910247",
   "environment_variables": {},
   "exception": null,
   "input_path": "__notebook__.ipynb",
   "output_path": "__notebook__.ipynb",
   "parameters": {},
   "start_time": "2022-12-19T10:16:02.237719",
   "version": "2.3.4"
  }
 },
 "nbformat": 4,
 "nbformat_minor": 5
}
