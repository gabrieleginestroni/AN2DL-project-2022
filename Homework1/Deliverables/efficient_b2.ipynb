{
 "cells": [
  {
   "cell_type": "markdown",
   "id": "902eb375",
   "metadata": {
    "papermill": {
     "duration": 0.014813,
     "end_time": "2022-11-24T15:39:20.220627",
     "exception": false,
     "start_time": "2022-11-24T15:39:20.205814",
     "status": "completed"
    },
    "tags": []
   },
   "source": [
    "# Code for competition"
   ]
  },
  {
   "cell_type": "code",
   "execution_count": null,
   "id": "46cc0aab",
   "metadata": {},
   "outputs": [],
   "source": [
    "# Code to prepare Kaggle's environment\n",
    "!apt -y install --allow-change-held-packages libcudnn8=8.6.0.163-1+cuda11.8\n",
    "\n",
    "!pip uninstall -y tensorflow\n",
    "!pip install tensorflow==2.9.1\n",
    "\n",
    "# See available GPUs\n",
    "!nvidia-smi"
   ]
  },
  {
   "cell_type": "code",
   "execution_count": null,
   "id": "3f108390",
   "metadata": {
    "execution": {
     "iopub.execute_input": "2022-11-24T15:39:20.253156Z",
     "iopub.status.busy": "2022-11-24T15:39:20.252600Z",
     "iopub.status.idle": "2022-11-24T15:42:28.760480Z",
     "shell.execute_reply": "2022-11-24T15:42:28.759369Z"
    },
    "papermill": {
     "duration": 188.528242,
     "end_time": "2022-11-24T15:42:28.763124",
     "exception": false,
     "start_time": "2022-11-24T15:39:20.234882",
     "status": "completed"
    },
    "tags": []
   },
   "outputs": [],
   "source": [
    "import tensorflow as tf\n",
    "from tensorflow.keras import mixed_precision\n",
    "from tensorflow.keras.preprocessing.image import ImageDataGenerator\n",
    "import numpy as np\n",
    "import os\n",
    "import shutil\n",
    "from collections import Counter\n",
    "import random\n",
    "import seaborn as sns\n",
    "import matplotlib.pyplot as plt\n",
    "from sklearn.metrics import accuracy_score, f1_score, precision_score, recall_score\n",
    "from sklearn.metrics import confusion_matrix\n",
    "from sklearn.utils import class_weight\n",
    "from PIL import Image\n",
    "import re\n",
    "import time\n",
    "from IPython.display import FileLink\n",
    "\n",
    "tfk = tf.keras\n",
    "tfkl = tf.keras.layers\n",
    "print(tf.__version__)\n",
    "print(tf.config.list_physical_devices())\n",
    "\n",
    "# Enable feature for memory occupation growth control \n",
    "physical_devices = tf.config.experimental.list_physical_devices('GPU')\n",
    "for dev in physical_devices:\n",
    "    tf.config.experimental.set_memory_growth(dev, True)\n",
    "    \n",
    "# Enable mixed precision (NOT USE WITH EFFICIENT-NET)\n",
    "#mixed_precision.set_global_policy('mixed_float16')\n",
    "\n",
    "# Enable distributed training\n",
    "strategy = tf.distribute.MirroredStrategy()\n",
    "\n",
    "# Random seed for reproducibility\n",
    "seed = 42\n",
    "random.seed(seed)\n",
    "os.environ['PYTHONHASHSEED'] = str(seed)\n",
    "np.random.seed(seed)\n",
    "tf.random.set_seed(seed)\n",
    "tf.compat.v1.set_random_seed(seed)"
   ]
  },
  {
   "cell_type": "markdown",
   "id": "5234d098",
   "metadata": {
    "papermill": {
     "duration": 0.021182,
     "end_time": "2022-11-24T15:42:28.805979",
     "exception": false,
     "start_time": "2022-11-24T15:42:28.784797",
     "status": "completed"
    },
    "tags": []
   },
   "source": [
    "### Metadata"
   ]
  },
  {
   "cell_type": "code",
   "execution_count": null,
   "id": "d98e4c93",
   "metadata": {
    "execution": {
     "iopub.execute_input": "2022-11-24T15:42:28.850602Z",
     "iopub.status.busy": "2022-11-24T15:42:28.850029Z",
     "iopub.status.idle": "2022-11-24T15:42:28.859485Z",
     "shell.execute_reply": "2022-11-24T15:42:28.858287Z"
    },
    "papermill": {
     "duration": 0.035777,
     "end_time": "2022-11-24T15:42:28.863391",
     "exception": false,
     "start_time": "2022-11-24T15:42:28.827614",
     "status": "completed"
    },
    "tags": []
   },
   "outputs": [],
   "source": [
    "classes = [\"Species1\", \"Species2\", \"Species3\", \"Species4\", \"Species5\", \"Species6\", \"Species7\", \"Species8\"]\n",
    "input_shape = (96, 96, 3)\n",
    "input_size = input_shape[:-1]\n",
    "\n",
    "batch_size = 64 * strategy.num_replicas_in_sync\n",
    "epochs = 400\n",
    "\n",
    "# Used to compute the new dimensions for the Resizing layer\n",
    "inflation_coeff = 2.5\n",
    "\n",
    "print(batch_size)"
   ]
  },
  {
   "cell_type": "markdown",
   "id": "549c3cb5",
   "metadata": {
    "papermill": {
     "duration": 0.020916,
     "end_time": "2022-11-24T15:42:28.906200",
     "exception": false,
     "start_time": "2022-11-24T15:42:28.885284",
     "status": "completed"
    },
    "tags": []
   },
   "source": [
    "### Prepare the environment"
   ]
  },
  {
   "cell_type": "code",
   "execution_count": null,
   "id": "10ec7153",
   "metadata": {
    "execution": {
     "iopub.execute_input": "2022-11-24T15:42:28.951196Z",
     "iopub.status.busy": "2022-11-24T15:42:28.950409Z",
     "iopub.status.idle": "2022-11-24T15:42:44.663209Z",
     "shell.execute_reply": "2022-11-24T15:42:44.661691Z"
    },
    "papermill": {
     "duration": 15.738705,
     "end_time": "2022-11-24T15:42:44.665601",
     "exception": false,
     "start_time": "2022-11-24T15:42:28.926896",
     "status": "completed"
    },
    "tags": []
   },
   "outputs": [],
   "source": [
    "# Copy the dataset in the current directory (useful only for Kaggle's environment)\n",
    "path = os.getcwd()\n",
    "if not os.path.exists(path+'/training_data_final'):\n",
    "    shutil.copytree('../input/training-data-final2/training_data_final', path + r'/training_data_final')\n",
    "print(os.listdir(os.getcwd()))"
   ]
  },
  {
   "cell_type": "code",
   "execution_count": null,
   "id": "145a8ec0",
   "metadata": {
    "execution": {
     "iopub.execute_input": "2022-11-24T15:42:44.712504Z",
     "iopub.status.busy": "2022-11-24T15:42:44.711535Z",
     "iopub.status.idle": "2022-11-24T15:42:45.057193Z",
     "shell.execute_reply": "2022-11-24T15:42:45.056214Z"
    },
    "papermill": {
     "duration": 0.371025,
     "end_time": "2022-11-24T15:42:45.059852",
     "exception": false,
     "start_time": "2022-11-24T15:42:44.688827",
     "status": "completed"
    },
    "tags": []
   },
   "outputs": [],
   "source": [
    "# Decide the portion of data to be used as training set, remaining one will be used as validation set\n",
    "train_split = 0.8                                                                              \n",
    "\n",
    "path = os.getcwd()\n",
    "if not os.path.exists(path+'/training') and not os.path.exists(path+'/validation'):\n",
    "    os.mkdir(path+'/training')                                                                # Create train and validation into the training and validation folders\n",
    "    os.mkdir(path+'/validation')\n",
    "\n",
    "    # Destination path \n",
    "    dest_train = path + '/training'\n",
    "    dest_valid = path + '/validation'\n",
    "\n",
    "    # Source path\n",
    "    source = path + '/training_data_final'\n",
    "\n",
    "    for folder in os.listdir(source):\n",
    "        if not os.path.exists(dest_train + '/' + folder):\n",
    "            os.mkdir(dest_train + '/' + folder)\n",
    "        if not os.path.exists(dest_valid + '/' + folder):\n",
    "            os.mkdir(dest_valid + '/' + folder)\n",
    "    \n",
    "        class_source = source + '/' + folder                                                   # Create path of the class\n",
    "        files = os.listdir(class_source)                                                       # List of files for the class\n",
    "        random.shuffle(files)                                                                  # Split is performed randomly\n",
    "        \n",
    "        for i in range(int(len(files) * train_split)):\n",
    "            dest = shutil.copy(class_source+'/'+files[i], dest_train+'/'+folder+'/'+files[i])  # Copy a random image in the training set\n",
    "        \n",
    "        for j in range(i + 1, len(files)):\n",
    "            dest = shutil.copy(class_source+'/'+files[j], dest_valid+'/'+folder+'/'+files[j])  # copy a random image in the validation set"
   ]
  },
  {
   "cell_type": "markdown",
   "id": "bad632f2",
   "metadata": {
    "papermill": {
     "duration": 0.021134,
     "end_time": "2022-11-24T15:42:45.103254",
     "exception": false,
     "start_time": "2022-11-24T15:42:45.082120",
     "status": "completed"
    },
    "tags": []
   },
   "source": [
    "### Preprocessing function"
   ]
  },
  {
   "cell_type": "markdown",
   "id": "e73528d6",
   "metadata": {
    "papermill": {
     "duration": 0.021128,
     "end_time": "2022-11-24T15:42:45.146497",
     "exception": false,
     "start_time": "2022-11-24T15:42:45.125369",
     "status": "completed"
    },
    "tags": []
   },
   "source": [
    "Allows us to simply define a pipeline of preprocessing transformations"
   ]
  },
  {
   "cell_type": "code",
   "execution_count": null,
   "id": "7bb6dad8",
   "metadata": {
    "execution": {
     "iopub.execute_input": "2022-11-24T15:42:45.190807Z",
     "iopub.status.busy": "2022-11-24T15:42:45.190493Z",
     "iopub.status.idle": "2022-11-24T15:42:45.197004Z",
     "shell.execute_reply": "2022-11-24T15:42:45.196060Z"
    },
    "papermill": {
     "duration": 0.031443,
     "end_time": "2022-11-24T15:42:45.199348",
     "exception": false,
     "start_time": "2022-11-24T15:42:45.167905",
     "status": "completed"
    },
    "tags": []
   },
   "outputs": [],
   "source": [
    "from tensorflow.keras.applications.efficientnet import preprocess_input\n",
    "\n",
    "def preprocessing(image):\n",
    "    #return tf.image.adjust_saturation(image, 3)\n",
    "    return preprocess_input(image)"
   ]
  },
  {
   "cell_type": "markdown",
   "id": "6fb7c1b3",
   "metadata": {
    "papermill": {
     "duration": 0.021712,
     "end_time": "2022-11-24T15:42:45.243000",
     "exception": false,
     "start_time": "2022-11-24T15:42:45.221288",
     "status": "completed"
    },
    "tags": []
   },
   "source": [
    "### Prepare the training set for standardization"
   ]
  },
  {
   "cell_type": "code",
   "execution_count": null,
   "id": "bebcb336",
   "metadata": {
    "execution": {
     "iopub.execute_input": "2022-11-24T15:42:45.288907Z",
     "iopub.status.busy": "2022-11-24T15:42:45.288586Z",
     "iopub.status.idle": "2022-11-24T15:42:47.063742Z",
     "shell.execute_reply": "2022-11-24T15:42:47.061921Z"
    },
    "papermill": {
     "duration": 1.802872,
     "end_time": "2022-11-24T15:42:47.068227",
     "exception": false,
     "start_time": "2022-11-24T15:42:45.265355",
     "status": "completed"
    },
    "tags": []
   },
   "outputs": [],
   "source": [
    "samples = []\n",
    "targets = []\n",
    "\n",
    "# Destination path \n",
    "dest_train = os.getcwd() + '/training'\n",
    "\n",
    "for folder in os.listdir(dest_train):\n",
    "    dest_class = dest_train + '/' + folder                                   # Local destination path\n",
    "    i = int(re.sub(\"\\D\", \"\", folder)) - 1                                    # Getting the right label directly from the folder's name\n",
    "    \n",
    "    # Apply the preprocess on every image of the same class and save it locally\n",
    "    for img in os.listdir(dest_class):                                       \n",
    "        temp = Image.open(dest_class + '/' + img).convert('RGB')\n",
    "        image = preprocessing(np.squeeze(np.expand_dims(temp, axis=0)))\n",
    "        label = tfk.utils.to_categorical(i, len(classes))                    # Getting the one-hot encoding of the label \n",
    "        samples.append(image)\n",
    "        targets.append(label)\n",
    "X_train = np.array(samples)\n",
    "y_train = np.array(targets, dtype=np.uint8)\n",
    "del samples\n",
    "del targets\n",
    "print(X_train.shape, X_train.dtype, sep=\", \")\n",
    "print(y_train.shape, y_train.dtype, sep=\", \")\n",
    "\n",
    "# Compute the class weights in order to balance loss during training\n",
    "y_numeric = []\n",
    "for v in y_train:\n",
    "    y_numeric.append(np.argmax(v))\n",
    "\n",
    "labels = np.unique(np.fromiter([np.argmax(t) for t in y_train], np.int32))\n",
    "class_weights = dict(enumerate(class_weight.compute_class_weight('balanced', classes=labels, y=y_numeric)))\n",
    "print(class_weights)"
   ]
  },
  {
   "cell_type": "markdown",
   "id": "de1e1d84",
   "metadata": {
    "papermill": {
     "duration": 0.024389,
     "end_time": "2022-11-24T15:42:47.179477",
     "exception": false,
     "start_time": "2022-11-24T15:42:47.155088",
     "status": "completed"
    },
    "tags": []
   },
   "source": [
    "### Static augmentation (only on training set)"
   ]
  },
  {
   "cell_type": "code",
   "execution_count": null,
   "id": "37062050",
   "metadata": {
    "execution": {
     "iopub.execute_input": "2022-11-24T15:42:47.229356Z",
     "iopub.status.busy": "2022-11-24T15:42:47.228327Z",
     "iopub.status.idle": "2022-11-24T15:42:47.240614Z",
     "shell.execute_reply": "2022-11-24T15:42:47.239407Z"
    },
    "papermill": {
     "duration": 0.040407,
     "end_time": "2022-11-24T15:42:47.243666",
     "exception": false,
     "start_time": "2022-11-24T15:42:47.203259",
     "status": "completed"
    },
    "tags": []
   },
   "outputs": [],
   "source": [
    "# If \"True\" the normal training set will be used for training, otherwise applies static augmentation (see then) \n",
    "static_aug = False\n",
    "# If \"True\" and static augmentation is being used oversamples the different classes in such a way that they all have the same size, otherwise we can specify different expansions for each one of them \n",
    "balanced = False\n",
    "\n",
    "# If augmented samples are already present they're NOT overwritten\n",
    "if static_aug and not os.path.exists(path+'/training_aug'):\n",
    "    old_train = os.getcwd() + '/training'\n",
    "    dest_train = os.getcwd() + '/training_aug'\n",
    "    shutil.copytree(old_train, dest_train)\n",
    "\n",
    "    # 1 unit of expansion always corresponds to the size of the class with the largest amount of samples\n",
    "    desired_amount = int(537 * train_split)\n",
    "\n",
    "    static_gen = ImageDataGenerator()\n",
    "\n",
    "    for folder in os.listdir(dest_train):\n",
    "        dest_path = dest_train + '/' + folder\n",
    "        label = int(re.sub(\"\\D\", \"\", folder)) - 1\n",
    "\n",
    "        if balanced:\n",
    "            class_expansion = [3, 3, 3, 3, 3, 3, 3, 3]\n",
    "        else:\n",
    "            class_expansion = [6, 1, 1, 1, 1, 4, 1, 4]\n",
    "        to_produce = (class_expansion[label] * desired_amount) - len(os.listdir(dest_path))\n",
    "        \n",
    "        static_gen_data = static_gen.flow_from_directory(dest_train,\n",
    "                                                        batch_size=1,\n",
    "                                                        target_size=input_size,\n",
    "                                                        classes=[folder],\n",
    "                                                        class_mode='categorical',      # Targets are directly converted into one-hot vectors\n",
    "                                                        shuffle=False,\n",
    "                                                        seed=seed) \n",
    "\n",
    "        print(f'Computing {to_produce} augmented images for target \"{folder}\"')\n",
    "        os.chdir(dest_path)\n",
    "        for i in range(0, to_produce):\n",
    "            Image.fromarray(np.squeeze(next(static_gen_data)[0]).astype(np.uint8)).save(f'aug{i:05}.jpg')\n",
    "        os.chdir('../')\n",
    "\n",
    "    os.chdir('../')\n",
    "print('\\n' + os.getcwd())"
   ]
  },
  {
   "cell_type": "markdown",
   "id": "1cf40926",
   "metadata": {
    "papermill": {
     "duration": 0.021154,
     "end_time": "2022-11-24T15:42:47.287554",
     "exception": false,
     "start_time": "2022-11-24T15:42:47.266400",
     "status": "completed"
    },
    "tags": []
   },
   "source": [
    "### Online augmentation\n",
    "Lets create the generators we'll need..."
   ]
  },
  {
   "cell_type": "code",
   "execution_count": null,
   "id": "15223aed",
   "metadata": {
    "execution": {
     "iopub.execute_input": "2022-11-24T15:42:47.332865Z",
     "iopub.status.busy": "2022-11-24T15:42:47.332169Z",
     "iopub.status.idle": "2022-11-24T15:42:47.339338Z",
     "shell.execute_reply": "2022-11-24T15:42:47.338481Z"
    },
    "papermill": {
     "duration": 0.032322,
     "end_time": "2022-11-24T15:42:47.341595",
     "exception": false,
     "start_time": "2022-11-24T15:42:47.309273",
     "status": "completed"
    },
    "tags": []
   },
   "outputs": [],
   "source": [
    "shift = 30\n",
    "train_data_gen = ImageDataGenerator(rotation_range=90,\n",
    "                                    width_shift_range=shift,\n",
    "                                    height_shift_range=shift,\n",
    "                                    horizontal_flip=True,\n",
    "                                    brightness_range=[0.8, 1.1],\n",
    "                                    #channel_shift_range=150,\n",
    "                                    zoom_range=[0.7, 1.3],\n",
    "                                    shear_range=30,\n",
    "                                    fill_mode='nearest',\n",
    "                                    preprocessing_function=preprocessing\n",
    "                                    #featurewise_std_normalization=True,\n",
    "                                    #featurewise_center=True \n",
    "                                    #rescale=1./255\n",
    "                                    )\n",
    "\n",
    "valid_data_gen = ImageDataGenerator(preprocessing_function=preprocessing\n",
    "                                    #featurewise_std_normalization=True,\n",
    "                                    #featurewise_center=True \n",
    "                                    #rescale=1./255\n",
    "                                    )\n",
    "\n",
    "# Fit the standardization values\n",
    "#train_data_gen.fit(X_train)\n",
    "#valid_data_gen.fit(X_train)"
   ]
  },
  {
   "cell_type": "markdown",
   "id": "a9f41b74",
   "metadata": {
    "papermill": {
     "duration": 0.023087,
     "end_time": "2022-11-24T15:42:47.386410",
     "exception": false,
     "start_time": "2022-11-24T15:42:47.363323",
     "status": "completed"
    },
    "tags": []
   },
   "source": [
    "... using flow_from_directory"
   ]
  },
  {
   "cell_type": "code",
   "execution_count": null,
   "id": "95dbf8fd",
   "metadata": {
    "execution": {
     "iopub.execute_input": "2022-11-24T15:42:47.436642Z",
     "iopub.status.busy": "2022-11-24T15:42:47.436220Z",
     "iopub.status.idle": "2022-11-24T15:42:47.710851Z",
     "shell.execute_reply": "2022-11-24T15:42:47.709962Z"
    },
    "papermill": {
     "duration": 0.302311,
     "end_time": "2022-11-24T15:42:47.713034",
     "exception": false,
     "start_time": "2022-11-24T15:42:47.410723",
     "status": "completed"
    },
    "tags": []
   },
   "outputs": [],
   "source": [
    "# Setting right paths basing on whether we intend to use static augmentation or not\n",
    "path = os.getcwd()\n",
    "if static_aug:\n",
    "    training_dir = path + '/training_aug'\n",
    "else:\n",
    "    training_dir = path + '/training'\n",
    "validation_dir = path + '/validation'\n",
    "\n",
    "train_gen = train_data_gen.flow_from_directory(training_dir,\n",
    "                                               batch_size=batch_size,\n",
    "                                               target_size=input_size,\n",
    "                                               classes=classes,\n",
    "                                               class_mode='categorical',\n",
    "                                               shuffle=True,\n",
    "                                               seed=seed)  \n",
    "\n",
    "valid_gen = valid_data_gen.flow_from_directory(validation_dir,\n",
    "                                               batch_size=batch_size, \n",
    "                                               target_size=input_size,\n",
    "                                               classes=classes,\n",
    "                                               class_mode='categorical',\n",
    "                                               shuffle=False,\n",
    "                                               seed=seed)\n",
    "\n",
    "# Disable AutoShard\n",
    "options = tf.data.Options()\n",
    "options.experimental_distribute.auto_shard_policy = tf.data.experimental.AutoShardPolicy.OFF\n",
    "\n",
    "# Create Datasets objects\n",
    "train_dataset = tf.data.Dataset.from_generator(lambda: train_gen,\n",
    "                                               output_types=(tf.float16, tf.uint8),\n",
    "                                               output_shapes=([None, input_shape[0], input_shape[1], input_shape[2]], [None, len(classes)]))\n",
    "\n",
    "train_dataset = train_dataset.with_options(options)\n",
    "train_dataset = train_dataset.repeat()\n",
    "\n",
    "valid_dataset = tf.data.Dataset.from_generator(lambda: valid_gen, \n",
    "                                               output_types=(tf.float16, tf.uint8),\n",
    "                                               output_shapes=([None, input_shape[0], input_shape[1], input_shape[2]], [None, len(classes)]))\n",
    "\n",
    "valid_dataset = valid_dataset.with_options(options)\n",
    "valid_dataset = valid_dataset.repeat()"
   ]
  },
  {
   "cell_type": "markdown",
   "id": "08e72b18",
   "metadata": {
    "papermill": {
     "duration": 0.02144,
     "end_time": "2022-11-24T15:42:47.756370",
     "exception": false,
     "start_time": "2022-11-24T15:42:47.734930",
     "status": "completed"
    },
    "tags": []
   },
   "source": [
    "### Prepare the validation set for evaluation purposes"
   ]
  },
  {
   "cell_type": "code",
   "execution_count": null,
   "id": "a4274b3d",
   "metadata": {
    "execution": {
     "iopub.execute_input": "2022-11-24T15:42:47.801856Z",
     "iopub.status.busy": "2022-11-24T15:42:47.800904Z",
     "iopub.status.idle": "2022-11-24T15:42:48.261692Z",
     "shell.execute_reply": "2022-11-24T15:42:48.260195Z"
    },
    "papermill": {
     "duration": 0.486492,
     "end_time": "2022-11-24T15:42:48.264362",
     "exception": false,
     "start_time": "2022-11-24T15:42:47.777870",
     "status": "completed"
    },
    "tags": []
   },
   "outputs": [],
   "source": [
    "samples = []\n",
    "targets = []\n",
    "\n",
    "# Populate values needed for standardization\n",
    "#mean = train_data_gen.mean\n",
    "#std = train_data_gen.std\n",
    "#print(mean, std)\n",
    "\n",
    "dest_valid = os.getcwd() + '/validation'\n",
    "\n",
    "for folder in os.listdir(dest_valid):\n",
    "    dest_class = dest_valid + '/' + folder\n",
    "    i = int(re.sub(\"\\D\", \"\", folder)) - 1\n",
    "    for img in os.listdir(dest_class):\n",
    "        temp = Image.open(dest_class + '/' + img).convert('RGB')\n",
    "        #image = preprocessing((np.squeeze(np.expand_dims(temp, axis=0)) - mean) / std)  # IF WE USE STANDARDIZATION USE THIS LINE INSTEAD OF THE ONE BELOW\n",
    "        image = preprocessing(np.squeeze(np.expand_dims(temp, axis=0)))\n",
    "        label = tfk.utils.to_categorical(i, len(classes))\n",
    "        samples.append(image)\n",
    "        targets.append(label)\n",
    "\n",
    "X_val = np.array(samples, dtype=np.float16)\n",
    "y_val = np.array(targets, dtype=np.uint8)\n",
    "del samples\n",
    "del targets\n",
    "print(X_val.shape, X_val.dtype, sep=\", \")\n",
    "print(y_val.shape, y_val.dtype, sep=\", \")"
   ]
  },
  {
   "cell_type": "markdown",
   "id": "79bc1907",
   "metadata": {
    "papermill": {
     "duration": 0.022275,
     "end_time": "2022-11-24T15:42:48.308593",
     "exception": false,
     "start_time": "2022-11-24T15:42:48.286318",
     "status": "completed"
    },
    "tags": []
   },
   "source": [
    "### Models definition functions"
   ]
  },
  {
   "cell_type": "code",
   "execution_count": null,
   "id": "5427b4c5",
   "metadata": {
    "execution": {
     "iopub.execute_input": "2022-11-24T15:42:48.355709Z",
     "iopub.status.busy": "2022-11-24T15:42:48.355365Z",
     "iopub.status.idle": "2022-11-24T15:42:48.364096Z",
     "shell.execute_reply": "2022-11-24T15:42:48.362923Z"
    },
    "papermill": {
     "duration": 0.035485,
     "end_time": "2022-11-24T15:42:48.366138",
     "exception": false,
     "start_time": "2022-11-24T15:42:48.330653",
     "status": "completed"
    },
    "tags": []
   },
   "outputs": [],
   "source": [
    "def build_tl_model(input_shape):\n",
    "    tf.random.set_seed(seed)\n",
    "    \n",
    "    # Compute the Resizing layer dimensions\n",
    "    inflated_dim0 = int(inflation_coeff * input_shape[0])\n",
    "    inflated_dim1 = int(inflation_coeff * input_shape[1])\n",
    "    inflated_shape = (inflated_dim0, inflated_dim1, 3)\n",
    "\n",
    "    # Load the supernet\n",
    "    supernet = tfk.applications.EfficientNetB2(include_top=False,\n",
    "                                               weights=\"imagenet\",\n",
    "                                               input_shape=inflated_shape)\n",
    "    \n",
    "    # Build the neural network layer by layer\n",
    "    input_layer = tfkl.Input(shape=input_shape, name='input_layer')\n",
    "    \n",
    "    x = tfkl.Resizing(inflated_dim0, inflated_dim1, interpolation=\"bicubic\", name='resizing')(input_layer)\n",
    "    \n",
    "    x = supernet(x)\n",
    "\n",
    "    x = tfkl.GlobalAveragePooling2D(name='gap')(x)\n",
    "    \n",
    "    output_layer = tfkl.Dense(\n",
    "        units = len(classes), \n",
    "        activation = 'softmax', \n",
    "        kernel_initializer = tfk.initializers.GlorotUniform(seed),\n",
    "        name = 'output_layer')(x)\n",
    "    \n",
    "    # Connect input and output through the Model class\n",
    "    model = tfk.Model(inputs = input_layer, outputs = output_layer, name = 'tl_model')\n",
    "\n",
    "    # Compile the model\n",
    "    model.compile(loss=tfk.losses.CategoricalCrossentropy(), optimizer=tfk.optimizers.Adam(5e-4), metrics='accuracy')\n",
    "\n",
    "    # Return the model\n",
    "    return model"
   ]
  },
  {
   "cell_type": "markdown",
   "id": "4c175cc7",
   "metadata": {
    "papermill": {
     "duration": 0.021908,
     "end_time": "2022-11-24T15:42:48.410122",
     "exception": false,
     "start_time": "2022-11-24T15:42:48.388214",
     "status": "completed"
    },
    "tags": []
   },
   "source": [
    "### Build the model"
   ]
  },
  {
   "cell_type": "code",
   "execution_count": null,
   "id": "1247417d",
   "metadata": {
    "execution": {
     "iopub.execute_input": "2022-11-24T15:42:48.455769Z",
     "iopub.status.busy": "2022-11-24T15:42:48.454982Z",
     "iopub.status.idle": "2022-11-24T15:42:56.278104Z",
     "shell.execute_reply": "2022-11-24T15:42:56.276892Z"
    },
    "papermill": {
     "duration": 7.849639,
     "end_time": "2022-11-24T15:42:56.281902",
     "exception": false,
     "start_time": "2022-11-24T15:42:48.432263",
     "status": "completed"
    },
    "tags": []
   },
   "outputs": [],
   "source": [
    "# Using the distributed training strategy\n",
    "with strategy.scope():\n",
    "    model = build_tl_model(input_shape)\n",
    "    model.summary()"
   ]
  },
  {
   "cell_type": "markdown",
   "id": "6756e6f3",
   "metadata": {
    "papermill": {
     "duration": 0.023375,
     "end_time": "2022-11-24T15:42:56.329594",
     "exception": false,
     "start_time": "2022-11-24T15:42:56.306219",
     "status": "completed"
    },
    "tags": []
   },
   "source": [
    "### Train the model"
   ]
  },
  {
   "cell_type": "code",
   "execution_count": null,
   "id": "ef068010",
   "metadata": {
    "execution": {
     "iopub.execute_input": "2022-11-24T15:42:56.378046Z",
     "iopub.status.busy": "2022-11-24T15:42:56.377698Z",
     "iopub.status.idle": "2022-11-24T16:02:38.709664Z",
     "shell.execute_reply": "2022-11-24T16:02:38.708611Z"
    },
    "papermill": {
     "duration": 1182.358933,
     "end_time": "2022-11-24T16:02:38.712122",
     "exception": false,
     "start_time": "2022-11-24T15:42:56.353189",
     "status": "completed"
    },
    "tags": []
   },
   "outputs": [],
   "source": [
    "# Used to control how many passes of the dataset we intend to perform\n",
    "train_mul = 1\n",
    "\n",
    "# Define personalized behaviour of the learning rate scheduler\n",
    "decay_rate = 5                                                         # Patience in early stopping should be set to: changes_to_see * decay_rate + 1\n",
    "min_lr = 2e-5\n",
    "\n",
    "def scheduler(epoch, lr):\n",
    "    if epoch % decay_rate == (decay_rate - 1):\n",
    "        return max(lr * tf.math.exp(-0.1), min_lr)\n",
    "    return lr\n",
    "\n",
    "# Define personalized callback to see the elapsed time (useful only in Kaggle since there's no time statistics)\n",
    "start = time.time()\n",
    "\n",
    "class ElapsedTimeCallback(tfk.callbacks.Callback):\n",
    "    def on_test_end(self, epoch, logs=None):\n",
    "        el = time.time() - start\n",
    "        print(f'\\nElapsed time: {int(el // 60)} minutes {(el % 60):.3f} seconds')\n",
    "\n",
    "# Model fit\n",
    "history = model.fit(x=train_dataset,\n",
    "                    epochs=epochs,                                     # Only indicative since we set \"repeat\" in training and validation datasets\n",
    "                    steps_per_epoch=int(len(train_gen) * train_mul),\n",
    "                    validation_data=valid_dataset,\n",
    "                    validation_steps=len(valid_gen),\n",
    "                    class_weight=class_weights,\n",
    "                    callbacks = [tfk.callbacks.EarlyStopping(monitor='val_accuracy', mode='max', patience=21, restore_best_weights=True),\n",
    "                                 tfk.callbacks.LearningRateScheduler(scheduler),\n",
    "                                 #tfk.callbacks.ReduceLROnPlateau(monitor='val_accuracy', factor=0.1, patience=5, min_lr=1e-6),\n",
    "                                 ElapsedTimeCallback()]\n",
    ").history"
   ]
  },
  {
   "cell_type": "markdown",
   "id": "4cf20fda",
   "metadata": {
    "papermill": {
     "duration": 0.074899,
     "end_time": "2022-11-24T16:02:38.863968",
     "exception": false,
     "start_time": "2022-11-24T16:02:38.789069",
     "status": "completed"
    },
    "tags": []
   },
   "source": [
    "### Plot training history"
   ]
  },
  {
   "cell_type": "code",
   "execution_count": null,
   "id": "7918efb9",
   "metadata": {
    "execution": {
     "iopub.execute_input": "2022-11-24T16:02:39.020176Z",
     "iopub.status.busy": "2022-11-24T16:02:39.019808Z",
     "iopub.status.idle": "2022-11-24T16:02:39.500402Z",
     "shell.execute_reply": "2022-11-24T16:02:39.499307Z"
    },
    "papermill": {
     "duration": 0.562023,
     "end_time": "2022-11-24T16:02:39.502593",
     "exception": false,
     "start_time": "2022-11-24T16:02:38.940570",
     "status": "completed"
    },
    "tags": []
   },
   "outputs": [],
   "source": [
    "plt.figure(figsize=(15,5))\n",
    "plt.plot(history['loss'], label='Std training', alpha=.3, color='#ff7f0e', linestyle='--')\n",
    "plt.plot(history['val_loss'], label='Std validation', alpha=.8, color='#ff7f0e')\n",
    "plt.legend(loc='upper left')\n",
    "plt.title('Categorical Crossentropy')\n",
    "plt.grid(alpha=.3)\n",
    "\n",
    "plt.figure(figsize=(15,5))\n",
    "plt.plot(history['accuracy'], label='Std training', alpha=.8, color='#ff7f0e', linestyle='--')\n",
    "plt.plot(history['val_accuracy'], label='Std validation', alpha=.8, color='#ff7f0e')\n",
    "plt.legend(loc='upper right')\n",
    "plt.title('Accuracy')\n",
    "plt.grid(alpha=.3)\n",
    "\n",
    "plt.show()\n",
    "\n",
    "del history"
   ]
  },
  {
   "cell_type": "markdown",
   "id": "202d68e4",
   "metadata": {
    "papermill": {
     "duration": 0.076092,
     "end_time": "2022-11-24T16:02:39.655693",
     "exception": false,
     "start_time": "2022-11-24T16:02:39.579601",
     "status": "completed"
    },
    "tags": []
   },
   "source": [
    "### Optional: restore previous model (if available)"
   ]
  },
  {
   "cell_type": "code",
   "execution_count": null,
   "id": "409dba45",
   "metadata": {
    "execution": {
     "iopub.execute_input": "2022-11-24T16:02:39.812452Z",
     "iopub.status.busy": "2022-11-24T16:02:39.810751Z",
     "iopub.status.idle": "2022-11-24T16:02:39.816596Z",
     "shell.execute_reply": "2022-11-24T16:02:39.815497Z"
    },
    "papermill": {
     "duration": 0.086588,
     "end_time": "2022-11-24T16:02:39.818734",
     "exception": false,
     "start_time": "2022-11-24T16:02:39.732146",
     "status": "completed"
    },
    "tags": []
   },
   "outputs": [],
   "source": [
    "path = os.getcwd()\n",
    "if os.path.exists('../input/bestmodel2'):\n",
    "    model = tfk.models.load_model('../input/bestmodel2')"
   ]
  },
  {
   "cell_type": "markdown",
   "id": "cc1ecf24",
   "metadata": {
    "papermill": {
     "duration": 0.077531,
     "end_time": "2022-11-24T16:02:39.972911",
     "exception": false,
     "start_time": "2022-11-24T16:02:39.895380",
     "status": "completed"
    },
    "tags": []
   },
   "source": [
    "### Plot the confusion matrix (evaluated on the validation set)"
   ]
  },
  {
   "cell_type": "code",
   "execution_count": null,
   "id": "06841a4e",
   "metadata": {
    "execution": {
     "iopub.execute_input": "2022-11-24T16:02:40.128523Z",
     "iopub.status.busy": "2022-11-24T16:02:40.128214Z",
     "iopub.status.idle": "2022-11-24T16:02:49.548764Z",
     "shell.execute_reply": "2022-11-24T16:02:49.547850Z"
    },
    "papermill": {
     "duration": 9.500906,
     "end_time": "2022-11-24T16:02:49.550846",
     "exception": false,
     "start_time": "2022-11-24T16:02:40.049940",
     "status": "completed"
    },
    "tags": []
   },
   "outputs": [],
   "source": [
    "predictions = model.predict(X_val)\n",
    "cm = confusion_matrix(np.argmax(y_val, axis=-1), np.argmax(predictions, axis=-1))\n",
    "\n",
    "accuracy = accuracy_score(np.argmax(y_val, axis=-1), np.argmax(predictions, axis=-1))\n",
    "precision = precision_score(np.argmax(y_val, axis=-1), np.argmax(predictions, axis=-1), average='macro')\n",
    "recall = recall_score(np.argmax(y_val, axis=-1), np.argmax(predictions, axis=-1), average='macro')\n",
    "f1 = f1_score(np.argmax(y_val, axis=-1), np.argmax(predictions, axis=-1), average=None)\n",
    "print('Accuracy:',accuracy.round(4))\n",
    "print('Precision:',precision.round(4))\n",
    "print('Recall:',recall.round(4))\n",
    "print('F1:',f1.round(4))\n",
    "\n",
    "plt.figure(figsize=(10,8))\n",
    "sns.heatmap(cm.T, xticklabels=classes, yticklabels=classes, annot=True, fmt=\"d\")\n",
    "plt.xlabel('True labels')\n",
    "plt.ylabel('Predicted labels')\n",
    "plt.show()"
   ]
  },
  {
   "cell_type": "markdown",
   "id": "5a42d840",
   "metadata": {
    "papermill": {
     "duration": 0.078892,
     "end_time": "2022-11-24T16:02:49.709221",
     "exception": false,
     "start_time": "2022-11-24T16:02:49.630329",
     "status": "completed"
    },
    "tags": []
   },
   "source": [
    "### Save the model"
   ]
  },
  {
   "cell_type": "code",
   "execution_count": null,
   "id": "5aa8874f",
   "metadata": {
    "execution": {
     "iopub.execute_input": "2022-11-24T16:02:49.867918Z",
     "iopub.status.busy": "2022-11-24T16:02:49.867595Z",
     "iopub.status.idle": "2022-11-24T16:03:52.544391Z",
     "shell.execute_reply": "2022-11-24T16:03:52.543376Z"
    },
    "papermill": {
     "duration": 62.836345,
     "end_time": "2022-11-24T16:03:52.624237",
     "exception": false,
     "start_time": "2022-11-24T16:02:49.787892",
     "status": "completed"
    },
    "tags": []
   },
   "outputs": [],
   "source": [
    "path = os.getcwd()\n",
    "if os.path.exists(path + r'/best_model'):\n",
    "    shutil.rmtree(path + r'/best_model')\n",
    "\n",
    "model.save('best_model', include_optimizer=False)\n",
    "del model\n",
    "\n",
    "# Create FileLink to easily download developed models also from Kaggle's interactive sessions\n",
    "shutil.make_archive('best_model', 'zip', 'best_model')\n",
    "FileLink(r'best_model.zip')"
   ]
  },
  {
   "cell_type": "markdown",
   "id": "601fdfb1",
   "metadata": {
    "papermill": {
     "duration": 0.078156,
     "end_time": "2022-11-24T16:03:52.781049",
     "exception": false,
     "start_time": "2022-11-24T16:03:52.702893",
     "status": "completed"
    },
    "tags": []
   },
   "source": [
    "### Improve the classifier module of the previously trained supernet"
   ]
  },
  {
   "cell_type": "code",
   "execution_count": null,
   "id": "337a16a2",
   "metadata": {
    "execution": {
     "iopub.execute_input": "2022-11-24T16:03:52.939947Z",
     "iopub.status.busy": "2022-11-24T16:03:52.938933Z",
     "iopub.status.idle": "2022-11-24T16:03:52.951637Z",
     "shell.execute_reply": "2022-11-24T16:03:52.950645Z"
    },
    "papermill": {
     "duration": 0.094999,
     "end_time": "2022-11-24T16:03:52.954103",
     "exception": false,
     "start_time": "2022-11-24T16:03:52.859104",
     "status": "completed"
    },
    "tags": []
   },
   "outputs": [],
   "source": [
    "def build_classifier_model(input_shape):\n",
    "    tf.random.set_seed(seed)\n",
    "    \n",
    "    inflated_dim0 = int(inflation_coeff * input_shape[0])\n",
    "    inflated_dim1 = int(inflation_coeff * input_shape[1])\n",
    "    inflated_shape = (inflated_dim0, inflated_dim1, 3)\n",
    "\n",
    "    supernet = tfk.applications.EfficientNetB2(include_top=False,\n",
    "                                               weights=\"imagenet\",\n",
    "                                               input_shape=inflated_shape)\n",
    "\n",
    "    # Recover previous weights\n",
    "    supernet.set_weights(tfk.models.load_model('best_model').get_layer('efficientnetb2').get_weights())\n",
    "    \n",
    "    # Use the supernet only as feature extractor\n",
    "    supernet.trainable = False  # \"True\" for fine tuning\n",
    "    for i, layer in enumerate(supernet.layers[:-30]):\n",
    "      layer.trainable = False  # \"False\" for fine tuning\n",
    "      #print(i, layer.name, layer.trainable)\n",
    "    \n",
    "    input_layer = tfkl.Input(shape=input_shape, name='input_layer')\n",
    "    \n",
    "    x = tfkl.Resizing(inflated_dim0, inflated_dim1, interpolation=\"bicubic\", name='resizing')(input_layer)\n",
    "    \n",
    "    x = supernet(x)\n",
    "    \n",
    "    x = tfkl.GlobalAveragePooling2D(name='gap')(x)\n",
    "\n",
    "    x = tfkl.Dense(\n",
    "        units = 2048,  \n",
    "        activation = 'relu',\n",
    "        kernel_initializer = tfk.initializers.HeUniform(seed),\n",
    "        name = 'classifier1')(x)\n",
    "    \n",
    "    x = tfkl.Dropout(0.5, seed=seed, name='dropout1')(x)\n",
    "    \n",
    "    x = tfkl.Dense(\n",
    "        units = 1024,\n",
    "        activation = 'relu',\n",
    "        kernel_initializer = tfk.initializers.HeUniform(seed),\n",
    "        name = 'classifier2')(x)\n",
    "    \n",
    "    x = tfkl.Dropout(0.5, seed=seed, name='dropout2')(x)\n",
    "    \n",
    "    output_layer = tfkl.Dense(\n",
    "                   units = len(classes), \n",
    "                   activation = 'softmax', \n",
    "                   kernel_initializer = tfk.initializers.GlorotUniform(seed),\n",
    "                   name = 'output_layer')(x)\n",
    "    \n",
    "    model = tfk.Model(inputs = input_layer, outputs = output_layer, name = 'classifier_model')\n",
    "\n",
    "    model.compile(loss=tfk.losses.CategoricalCrossentropy(), optimizer=tfk.optimizers.Adam(1e-3), metrics='accuracy')\n",
    "\n",
    "    return model"
   ]
  },
  {
   "cell_type": "code",
   "execution_count": null,
   "id": "12e048a1",
   "metadata": {
    "execution": {
     "iopub.execute_input": "2022-11-24T16:03:53.115155Z",
     "iopub.status.busy": "2022-11-24T16:03:53.114868Z",
     "iopub.status.idle": "2022-11-24T16:04:25.401942Z",
     "shell.execute_reply": "2022-11-24T16:04:25.400975Z"
    },
    "papermill": {
     "duration": 32.444202,
     "end_time": "2022-11-24T16:04:25.477275",
     "exception": false,
     "start_time": "2022-11-24T16:03:53.033073",
     "status": "completed"
    },
    "tags": []
   },
   "outputs": [],
   "source": [
    "with strategy.scope():\n",
    "    classifier_model = build_classifier_model(input_shape)\n",
    "    classifier_model.summary()"
   ]
  },
  {
   "cell_type": "code",
   "execution_count": null,
   "id": "a0da4ea0",
   "metadata": {
    "execution": {
     "iopub.execute_input": "2022-11-24T16:04:25.642157Z",
     "iopub.status.busy": "2022-11-24T16:04:25.641837Z",
     "iopub.status.idle": "2022-11-24T16:15:47.966070Z",
     "shell.execute_reply": "2022-11-24T16:15:47.964896Z"
    },
    "papermill": {
     "duration": 682.410322,
     "end_time": "2022-11-24T16:15:47.969615",
     "exception": false,
     "start_time": "2022-11-24T16:04:25.559293",
     "status": "completed"
    },
    "tags": []
   },
   "outputs": [],
   "source": [
    "# Repeated code needed to be able to perform only this training without having to execute the previous one before\n",
    "train_mul = 1\n",
    "\n",
    "decay_rate = 5\n",
    "min_lr = 2e-5\n",
    "\n",
    "def scheduler(epoch, lr):\n",
    "    if epoch % decay_rate == (decay_rate - 1):\n",
    "        return max(lr * tf.math.exp(-0.1), min_lr)\n",
    "    return lr\n",
    "\n",
    "start = time.time()\n",
    "\n",
    "class ElapsedTimeCallback(tfk.callbacks.Callback):\n",
    "    def on_test_end(self, epoch, logs=None):\n",
    "        el = time.time() - start\n",
    "        print(f'\\nElapsed time: {int(el // 60)} minutes {(el % 60):.3f} seconds')\n",
    "\n",
    "classifier_history = classifier_model.fit(x=train_dataset,\n",
    "                                          epochs=epochs,                                  \n",
    "                                          steps_per_epoch=int(len(train_gen) * train_mul),\n",
    "                                          validation_data=valid_dataset,\n",
    "                                          validation_steps=len(valid_gen),\n",
    "                                          class_weight=class_weights,\n",
    "                                          callbacks = [tfk.callbacks.EarlyStopping(monitor='val_accuracy', mode='max', patience=26, restore_best_weights=True),\n",
    "                                                       tfk.callbacks.LearningRateScheduler(scheduler),\n",
    "                                                       #tfk.callbacks.ReduceLROnPlateau(monitor='val_accuracy', factor=0.1, patience=5, min_lr=1e-6),\n",
    "                                                       ElapsedTimeCallback()]\n",
    ").history"
   ]
  },
  {
   "cell_type": "markdown",
   "id": "ae9860eb",
   "metadata": {
    "papermill": {
     "duration": 0.146045,
     "end_time": "2022-11-24T16:15:48.344026",
     "exception": false,
     "start_time": "2022-11-24T16:15:48.197981",
     "status": "completed"
    },
    "tags": []
   },
   "source": [
    "### Plot new training history"
   ]
  },
  {
   "cell_type": "code",
   "execution_count": null,
   "id": "197c1c05",
   "metadata": {
    "execution": {
     "iopub.execute_input": "2022-11-24T16:15:48.634377Z",
     "iopub.status.busy": "2022-11-24T16:15:48.634020Z",
     "iopub.status.idle": "2022-11-24T16:15:49.063255Z",
     "shell.execute_reply": "2022-11-24T16:15:49.062344Z"
    },
    "papermill": {
     "duration": 0.576283,
     "end_time": "2022-11-24T16:15:49.065322",
     "exception": false,
     "start_time": "2022-11-24T16:15:48.489039",
     "status": "completed"
    },
    "tags": []
   },
   "outputs": [],
   "source": [
    "history = classifier_history\n",
    "\n",
    "plt.figure(figsize=(15,5))\n",
    "plt.plot(history['loss'], label='Std training', alpha=.3, color='#ff7f0e', linestyle='--')\n",
    "plt.plot(history['val_loss'], label='Std validation', alpha=.8, color='#ff7f0e')\n",
    "plt.legend(loc='upper left')\n",
    "plt.title('Categorical Crossentropy')\n",
    "plt.grid(alpha=.3)\n",
    "\n",
    "plt.figure(figsize=(15,5))\n",
    "plt.plot(history['accuracy'], label='Std training', alpha=.8, color='#ff7f0e', linestyle='--')\n",
    "plt.plot(history['val_accuracy'], label='Std validation', alpha=.8, color='#ff7f0e')\n",
    "plt.legend(loc='upper right')\n",
    "plt.title('Accuracy')\n",
    "plt.grid(alpha=.3)\n",
    "\n",
    "plt.show()\n",
    "\n",
    "del history\n",
    "del classifier_history"
   ]
  },
  {
   "cell_type": "markdown",
   "id": "3bb0b14d",
   "metadata": {
    "papermill": {
     "duration": 0.235364,
     "end_time": "2022-11-24T16:15:49.557568",
     "exception": false,
     "start_time": "2022-11-24T16:15:49.322204",
     "status": "completed"
    },
    "tags": []
   },
   "source": [
    "### Plot the new confusion matrix"
   ]
  },
  {
   "cell_type": "code",
   "execution_count": null,
   "id": "cc8cd71f",
   "metadata": {
    "execution": {
     "iopub.execute_input": "2022-11-24T16:15:49.960932Z",
     "iopub.status.busy": "2022-11-24T16:15:49.960537Z",
     "iopub.status.idle": "2022-11-24T16:15:58.729161Z",
     "shell.execute_reply": "2022-11-24T16:15:58.728122Z"
    },
    "papermill": {
     "duration": 8.926909,
     "end_time": "2022-11-24T16:15:58.731295",
     "exception": false,
     "start_time": "2022-11-24T16:15:49.804386",
     "status": "completed"
    },
    "tags": []
   },
   "outputs": [],
   "source": [
    "predictions = classifier_model.predict(X_val)\n",
    "cm = confusion_matrix(np.argmax(y_val, axis=-1), np.argmax(predictions, axis=-1))\n",
    "\n",
    "accuracy = accuracy_score(np.argmax(y_val, axis=-1), np.argmax(predictions, axis=-1))\n",
    "precision = precision_score(np.argmax(y_val, axis=-1), np.argmax(predictions, axis=-1), average='macro')\n",
    "recall = recall_score(np.argmax(y_val, axis=-1), np.argmax(predictions, axis=-1), average='macro')\n",
    "f1 = f1_score(np.argmax(y_val, axis=-1), np.argmax(predictions, axis=-1), average=None)\n",
    "print('Accuracy:',accuracy.round(4))\n",
    "print('Precision:',precision.round(4))\n",
    "print('Recall:',recall.round(4))\n",
    "print('F1:',f1.round(4))\n",
    "\n",
    "plt.figure(figsize=(10,8))\n",
    "sns.heatmap(cm.T, xticklabels=classes, yticklabels=classes, annot=True, fmt=\"d\")\n",
    "plt.xlabel('True labels')\n",
    "plt.ylabel('Predicted labels')\n",
    "plt.show()"
   ]
  },
  {
   "cell_type": "markdown",
   "id": "9242a2a7",
   "metadata": {
    "papermill": {
     "duration": 0.145536,
     "end_time": "2022-11-24T16:15:59.024807",
     "exception": false,
     "start_time": "2022-11-24T16:15:58.879271",
     "status": "completed"
    },
    "tags": []
   },
   "source": [
    "### Save the new model"
   ]
  },
  {
   "cell_type": "code",
   "execution_count": null,
   "id": "ba43fae9",
   "metadata": {
    "execution": {
     "iopub.execute_input": "2022-11-24T16:15:59.321371Z",
     "iopub.status.busy": "2022-11-24T16:15:59.321022Z",
     "iopub.status.idle": "2022-11-24T16:17:01.988313Z",
     "shell.execute_reply": "2022-11-24T16:17:01.987363Z"
    },
    "papermill": {
     "duration": 62.962425,
     "end_time": "2022-11-24T16:17:02.136605",
     "exception": false,
     "start_time": "2022-11-24T16:15:59.174180",
     "status": "completed"
    },
    "tags": []
   },
   "outputs": [],
   "source": [
    "path = os.getcwd()\n",
    "if os.path.exists(path + r'/best_model_improved'):\n",
    "    shutil.rmtree(path + r'/best_model_improved')\n",
    "\n",
    "classifier_model.save('best_model_improved', include_optimizer=False)\n",
    "del classifier_model\n",
    "\n",
    "shutil.make_archive('best_model_improved', 'zip', 'best_model_improved')\n",
    "FileLink(r'best_model_improved.zip')"
   ]
  }
 ],
 "metadata": {
  "kernelspec": {
   "display_name": "Python 3",
   "language": "python",
   "name": "python3"
  },
  "language_info": {
   "codemirror_mode": {
    "name": "ipython",
    "version": 3
   },
   "file_extension": ".py",
   "mimetype": "text/x-python",
   "name": "python",
   "nbconvert_exporter": "python",
   "pygments_lexer": "ipython3",
   "version": "3.7.12"
  },
  "papermill": {
   "default_parameters": {},
   "duration": 2273.747182,
   "end_time": "2022-11-24T16:17:05.508672",
   "environment_variables": {},
   "exception": null,
   "input_path": "__notebook__.ipynb",
   "output_path": "__notebook__.ipynb",
   "parameters": {},
   "start_time": "2022-11-24T15:39:11.761490",
   "version": "2.3.4"
  }
 },
 "nbformat": 4,
 "nbformat_minor": 5
}
