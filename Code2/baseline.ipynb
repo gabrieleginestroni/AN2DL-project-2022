{
  "cells": [
    {
      "cell_type": "markdown",
      "metadata": {
        "id": "zfehjCy896Fd"
      },
      "source": [
        "### Import libraries"
      ]
    },
    {
      "cell_type": "code",
      "execution_count": 29,
      "metadata": {
        "colab": {
          "base_uri": "https://localhost:8080/"
        },
        "id": "Z_wVYNVVfr6q",
        "outputId": "812f6cdf-089b-4ef4-a5f6-7e69cdcfa205"
      },
      "outputs": [
        {
          "name": "stdout",
          "output_type": "stream",
          "text": [
            "2.9.1\n"
          ]
        }
      ],
      "source": [
        "import tensorflow as tf\n",
        "import numpy as np\n",
        "import os\n",
        "import random\n",
        "import pandas as pd\n",
        "import seaborn as sns\n",
        "import matplotlib.pyplot as plt\n",
        "plt.rc('font', size=16) \n",
        "from sklearn.metrics import accuracy_score, f1_score, precision_score, recall_score\n",
        "from sklearn.metrics import confusion_matrix\n",
        "from sklearn.preprocessing import MinMaxScaler\n",
        "from sklearn.model_selection import train_test_split\n",
        "import warnings\n",
        "import logging\n",
        "\n",
        "tfk = tf.keras\n",
        "tfkl = tf.keras.layers\n",
        "print(tf.__version__)\n"
      ]
    },
    {
      "cell_type": "markdown",
      "metadata": {
        "id": "lQWEHP13tQsc"
      },
      "source": [
        "### Set seed for reproducibility"
      ]
    },
    {
      "cell_type": "code",
      "execution_count": 30,
      "metadata": {
        "id": "imBtfhUPLwB-"
      },
      "outputs": [],
      "source": [
        "# Random seed for reproducibility\n",
        "seed = 42\n",
        "\n",
        "random.seed(seed)\n",
        "os.environ['PYTHONHASHSEED'] = str(seed)\n",
        "np.random.seed(seed)\n",
        "tf.random.set_seed(seed)\n",
        "tf.compat.v1.set_random_seed(seed)"
      ]
    },
    {
      "attachments": {},
      "cell_type": "markdown",
      "metadata": {
        "id": "GMysAd_I-lED"
      },
      "source": [
        " # Load the training dataset"
      ]
    },
    {
      "cell_type": "code",
      "execution_count": 31,
      "metadata": {
        "id": "C0m6Gn4fkm9S"
      },
      "outputs": [
        {
          "name": "stdout",
          "output_type": "stream",
          "text": [
            "(2429, 36, 6)\n",
            "(2429,)\n"
          ]
        }
      ],
      "source": [
        "path = os.getcwd()\n",
        "# Load the .npy file\n",
        "X = np.load(path+r'\\training\\x_train.npy')\n",
        "y = np.load(path+r'\\training\\y_train.npy')\n",
        "print(X.shape)   #Note as sequences are already built, with window 36\n",
        "print(y.shape)\n",
        "print(X.dtype)\n",
        "print(y.dtype)"
      ]
    },
    {
      "cell_type": "code",
      "execution_count": 32,
      "metadata": {},
      "outputs": [
        {
          "name": "stdout",
          "output_type": "stream",
          "text": [
            "[[[ 1.7597e+01  8.1713e+00 -1.7842e+00 -1.9706e+01 -9.7135e+00\n",
            "   -6.1887e+01]\n",
            "  [ 2.2974e-01 -5.8956e+00  1.6837e+01  5.0390e+00  2.4332e+00\n",
            "    5.8914e+01]\n",
            "  [-2.9654e+01 -2.1296e+01  2.9103e+01 -4.7503e-01  7.5391e+01\n",
            "    1.0665e+01]\n",
            "  ...\n",
            "  [ 1.1982e+02  2.1849e+02  1.6398e+03  5.9787e+02  2.1922e+03\n",
            "    1.8484e+01]\n",
            "  [ 9.1591e+01  1.0378e+02  1.8238e+03  1.2460e+03  1.1301e+04\n",
            "    7.5107e+02]\n",
            "  [ 4.3719e+01  3.0689e+01  9.5092e+02  8.5927e+02  8.1331e+03\n",
            "    9.8883e+02]]\n",
            "\n",
            " [[ 2.4209e+00 -5.6039e-01  2.3654e+01 -3.8171e+00  1.3721e+00\n",
            "    8.2510e+00]\n",
            "  [ 1.6847e+00  2.3989e+01  1.7803e+01 -1.9575e+01 -8.2534e+00\n",
            "   -2.3959e+01]\n",
            "  [ 5.0692e-01  5.0281e+01  5.1196e+01  1.6036e+01  7.2974e-01\n",
            "   -1.8185e+01]\n",
            "  ...\n",
            "  [-1.5618e+01 -7.4233e+00  3.7833e+00  1.6565e+00 -1.0438e+01\n",
            "   -5.5229e+00]\n",
            "  [-1.0702e+01 -6.3568e+00 -4.6464e+00  6.7957e-01 -5.5260e+00\n",
            "    1.9070e+01]\n",
            "  [-4.6352e+00 -3.2769e+00 -5.9048e+00 -1.9564e-01  1.1487e+00\n",
            "    2.3275e+01]]\n",
            "\n",
            " [[ 3.9688e+01  7.0129e+02  3.0038e+03  3.4806e+01  6.5036e+01\n",
            "    7.7808e+01]\n",
            "  [ 1.6399e+02  1.2559e+03  3.3818e+03  2.3965e+03  5.1936e+01\n",
            "   -7.0134e+01]\n",
            "  [ 2.7545e+02  1.7005e+03  3.0922e+03  3.3084e+03  1.9858e+02\n",
            "    3.6742e+02]\n",
            "  ...\n",
            "  [ 3.1521e+01  9.1987e+00 -4.7701e+00  1.5335e+01  1.7212e+01\n",
            "    1.2384e+01]\n",
            "  [ 2.5363e+01  5.1979e+00  6.0153e+00 -6.8815e+00  1.0936e+01\n",
            "   -6.4854e+01]\n",
            "  [ 1.2557e+01  2.2734e+00  4.4831e+00 -1.2885e+01  1.0488e+01\n",
            "   -6.6960e+01]]\n",
            "\n",
            " ...\n",
            "\n",
            " [[ 5.0312e+02  1.6427e+03  1.6508e+03  1.5424e+03  1.4157e+03\n",
            "    1.3090e+03]\n",
            "  [ 3.1731e+02  2.0105e+03  2.1930e+03  2.1599e+03  2.0417e+03\n",
            "    1.9044e+03]\n",
            "  [ 2.4274e+02  1.4771e+03  1.8077e+03  1.8751e+03  1.8384e+03\n",
            "    1.7504e+03]\n",
            "  ...\n",
            "  [ 4.4821e-01  2.2123e-01  5.3692e+00  1.4156e+01  1.6963e+01\n",
            "    1.9934e+01]\n",
            "  [-7.4565e-01  1.8507e+00  5.6273e+00  1.3796e+01  1.6155e+01\n",
            "    2.7067e+01]\n",
            "  [-7.2203e-01  2.8672e+00  6.6811e+00  1.3440e+01  1.7874e+01\n",
            "    2.7193e+01]]\n",
            "\n",
            " [[ 1.7756e+01  2.0621e+00 -3.2330e+00  3.2775e-01 -1.5536e+01\n",
            "    9.1006e+00]\n",
            "  [ 2.6275e+01  2.0191e+00 -2.5783e+00 -1.6558e+00 -3.8543e+00\n",
            "   -5.7283e+01]\n",
            "  [ 3.1817e+01  1.6151e+00 -1.3073e+00 -3.9150e+00  1.5539e+01\n",
            "   -4.3464e+01]\n",
            "  ...\n",
            "  [ 8.9397e+00  8.3143e+00  2.8575e+01  4.1574e+01  8.0197e+01\n",
            "    6.3055e+01]\n",
            "  [ 1.0139e+01  5.4037e+00  2.5684e+01  3.6630e+01  5.1392e+01\n",
            "    1.5032e+01]\n",
            "  [ 5.9396e+00  2.3820e+00  1.3211e+01  1.8603e+01  3.3123e+01\n",
            "    4.4679e-01]]\n",
            "\n",
            " [[ 1.0391e+00 -1.2397e-01  6.9213e-01  4.2632e-01  8.7345e-01\n",
            "    6.6273e-01]\n",
            "  [-3.9896e+00  2.1111e+00  1.2686e+00 -5.9710e-01  3.9892e-01\n",
            "   -9.4295e-01]\n",
            "  [ 1.8169e-01  1.3814e+00  6.6310e-01  1.2138e-01  1.4185e+00\n",
            "    9.8861e+00]\n",
            "  ...\n",
            "  [ 2.0638e-01  1.0287e+00 -9.2512e-01 -7.1633e-01  1.7333e+00\n",
            "    4.7638e+00]\n",
            "  [ 4.1429e+00  1.0939e+00 -1.8921e-01  1.1410e+00  9.3441e-01\n",
            "    4.1742e+00]\n",
            "  [-1.5545e+00 -1.2121e+00  1.0705e+00  1.3272e+00  2.4010e+00\n",
            "    8.4550e+00]]]\n",
            "[ 0  0  0 ... 11 11 11]\n"
          ]
        }
      ],
      "source": [
        "# visualizing X and y\n",
        "print(X)\n",
        "print(y)     "
      ]
    },
    {
      "attachments": {},
      "cell_type": "markdown",
      "metadata": {},
      "source": [
        "## Train-test split"
      ]
    },
    {
      "cell_type": "code",
      "execution_count": 34,
      "metadata": {},
      "outputs": [
        {
          "name": "stdout",
          "output_type": "stream",
          "text": [
            "(1943,)\n",
            "[3 9 6 ... 9 1 5]\n"
          ]
        }
      ],
      "source": [
        "# Split the data into train and test sets\n",
        "X_train, X_test, y_train, y_test = train_test_split(X, y, test_size=0.2, stratify=y)\n",
        "print(y_train.shape)\n",
        "print(y_train)"
      ]
    },
    {
      "cell_type": "code",
      "execution_count": 36,
      "metadata": {},
      "outputs": [
        {
          "name": "stdout",
          "output_type": "stream",
          "text": [
            "float64\n"
          ]
        }
      ],
      "source": [
        "scaler = MinMaxScaler()\n",
        "# Fit the scaler to the training data and apply the scaling on the training data\n",
        "X_train = scaler.fit_transform(X_train)\n",
        "\n",
        "# Apply the scaling on validation data\n",
        "X_test = scaler.transform(X_test)"
      ]
    },
    {
      "cell_type": "code",
      "execution_count": 37,
      "metadata": {},
      "outputs": [
        {
          "name": "stdout",
          "output_type": "stream",
          "text": [
            "(1943, 12)\n",
            "(486, 12)\n"
          ]
        }
      ],
      "source": [
        "# Convert the sparse labels to categorical values\n",
        "y_train = tfk.utils.to_categorical(y_train)\n",
        "y_test = tfk.utils.to_categorical(y_test)\n",
        "print(y_train.shape)\n",
        "print(y_test.shape)"
      ]
    }
  ],
  "metadata": {
    "accelerator": "GPU",
    "colab": {
      "provenance": []
    },
    "gpuClass": "standard",
    "kernelspec": {
      "display_name": "gputensorflow",
      "language": "python",
      "name": "python3"
    },
    "language_info": {
      "codemirror_mode": {
        "name": "ipython",
        "version": 3
      },
      "file_extension": ".py",
      "mimetype": "text/x-python",
      "name": "python",
      "nbconvert_exporter": "python",
      "pygments_lexer": "ipython3",
      "version": "3.7.13"
    },
    "vscode": {
      "interpreter": {
        "hash": "11b78048da93356f505538a9c7d58128f235a1fdc0d1d6d5bf0f972a0c6e57fd"
      }
    }
  },
  "nbformat": 4,
  "nbformat_minor": 0
}
